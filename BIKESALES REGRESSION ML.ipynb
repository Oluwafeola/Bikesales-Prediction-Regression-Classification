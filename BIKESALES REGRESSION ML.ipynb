{
 "cells": [
  {
   "cell_type": "markdown",
   "id": "cd5303e4",
   "metadata": {},
   "source": [
    "# MACHINE LEARNING PREDICTIONS OF BIKE SALES REVENUE\n",
    "                                - A COMPARATIVE STUDY-\n",
    "                                        BY\n",
    "                                 OLUWAFEOLA OTESANYA C2007438"
   ]
  },
  {
   "cell_type": "markdown",
   "id": "e99260da",
   "metadata": {},
   "source": [
    "# Introduction"
   ]
  },
  {
   "cell_type": "markdown",
   "id": "1b03f267",
   "metadata": {},
   "source": [
    "In practically every element of modern life, including e-commerce, machine learning has grown in significance. It has aided in planning and decision-making, contributed to a broad profit margin, made shopping more individualised, increased consumer happiness, among other benefits.\n",
    "The dataset in this assessment is about online bike sales. Sales and revenue information for each country and each of its states is gleaned.\n",
    "The goal is to predict revenue based on the product's financial attributes and/or consumer characteristics.\n",
    "The Columns are;\n",
    "Date,\tDay,\tMonth,\tYear,\tCustomer_Age,\tAge_Group,\tCustomer_Gender,\tCountry,\tState,\tProduct_Category,\tSub_Category,\tProduct,\tOrder_Quantity,\tUnit_Cost,\tUnit_Price,\tProfit,\tCost, Revenue.\n"
   ]
  },
  {
   "cell_type": "markdown",
   "id": "66bedf81",
   "metadata": {},
   "source": [
    "# Importation of librabies and dependencies"
   ]
  },
  {
   "cell_type": "code",
   "execution_count": 2,
   "id": "7e0aa66f",
   "metadata": {},
   "outputs": [
    {
     "name": "stderr",
     "output_type": "stream",
     "text": [
      "C:\\ProgramData\\Anaconda3\\lib\\site-packages\\statsmodels\\tsa\\base\\tsa_model.py:7: FutureWarning: pandas.Int64Index is deprecated and will be removed from pandas in a future version. Use pandas.Index with the appropriate dtype instead.\n",
      "  from pandas import (to_datetime, Int64Index, DatetimeIndex, Period,\n",
      "C:\\ProgramData\\Anaconda3\\lib\\site-packages\\statsmodels\\tsa\\base\\tsa_model.py:7: FutureWarning: pandas.Float64Index is deprecated and will be removed from pandas in a future version. Use pandas.Index with the appropriate dtype instead.\n",
      "  from pandas import (to_datetime, Int64Index, DatetimeIndex, Period,\n"
     ]
    }
   ],
   "source": [
    "# importing the necessary librabries for the data exploration analysis and machine learning model.\n",
    "\n",
    "import numpy as np     # needed to convert dataframes to arrays\n",
    "import pandas as pd    # necessary for data manipulation\n",
    "import seaborn as sns\n",
    "import matplotlib.pyplot as plt\n",
    "\n",
    "import statsmodels.api as sm\n",
    "import statsmodels.formula.api as smf\n",
    "import patsy\n",
    "\n",
    "from sklearn.model_selection import KFold\n",
    "from sklearn.linear_model import LinearRegression\n",
    "from sklearn.naive_bayes import GaussianNB\n",
    "from sklearn.linear_model import RidgeCV\n",
    "%matplotlib inline\n",
    "\n",
    "from sklearn.model_selection import train_test_split\n",
    "from sklearn.linear_model import LinearRegression, Lasso, LassoCV, Ridge, RidgeCV\n",
    "from sklearn.preprocessing import StandardScaler,PolynomialFeatures\n",
    "from sklearn.metrics import mean_squared_error, r2_score\n",
    "\n",
    "from sklearn.tree import DecisionTreeRegressor\n",
    "from sklearn.model_selection import train_test_split\n",
    "from sklearn.metrics import mean_squared_error\n",
    "from sklearn.metrics import accuracy_score\n",
    "\n",
    "from sklearn.ensemble import RandomForestRegressor\n",
    "from sklearn.metrics import mean_absolute_error\n",
    " \n",
    "import warnings\n",
    "warnings.filterwarnings('ignore')"
   ]
  },
  {
   "cell_type": "markdown",
   "id": "baa2da35",
   "metadata": {},
   "source": [
    " # Basic information about the dataset"
   ]
  },
  {
   "cell_type": "markdown",
   "id": "82ffef99",
   "metadata": {},
   "source": [
    "The Bike Sales Dataset consists of both Numerical and Categorical variables.\n",
    "The attributes and features gives information concerning customer behaviour or traits \n",
    "The target variable for this ML prediction is 'Revenue'.\n",
    "The Categorical variables need to be encoded."
   ]
  },
  {
   "cell_type": "code",
   "execution_count": 3,
   "id": "85dea8b5",
   "metadata": {},
   "outputs": [],
   "source": [
    "# Reading the csv dataset as a DataFrame\n",
    "\n",
    "df_bikesales = pd.read_csv(\"Sales.csv\")"
   ]
  },
  {
   "cell_type": "code",
   "execution_count": 4,
   "id": "aa21e2d5",
   "metadata": {},
   "outputs": [
    {
     "data": {
      "text/html": [
       "<div>\n",
       "<style scoped>\n",
       "    .dataframe tbody tr th:only-of-type {\n",
       "        vertical-align: middle;\n",
       "    }\n",
       "\n",
       "    .dataframe tbody tr th {\n",
       "        vertical-align: top;\n",
       "    }\n",
       "\n",
       "    .dataframe thead th {\n",
       "        text-align: right;\n",
       "    }\n",
       "</style>\n",
       "<table border=\"1\" class=\"dataframe\">\n",
       "  <thead>\n",
       "    <tr style=\"text-align: right;\">\n",
       "      <th></th>\n",
       "      <th>Date</th>\n",
       "      <th>Day</th>\n",
       "      <th>Month</th>\n",
       "      <th>Year</th>\n",
       "      <th>Customer_Age</th>\n",
       "      <th>Age_Group</th>\n",
       "      <th>Customer_Gender</th>\n",
       "      <th>Country</th>\n",
       "      <th>State</th>\n",
       "      <th>Product_Category</th>\n",
       "      <th>Sub_Category</th>\n",
       "      <th>Product</th>\n",
       "      <th>Order_Quantity</th>\n",
       "      <th>Unit_Cost</th>\n",
       "      <th>Unit_Price</th>\n",
       "      <th>Profit</th>\n",
       "      <th>Cost</th>\n",
       "      <th>Revenue</th>\n",
       "    </tr>\n",
       "  </thead>\n",
       "  <tbody>\n",
       "    <tr>\n",
       "      <th>0</th>\n",
       "      <td>26/11/2013</td>\n",
       "      <td>26</td>\n",
       "      <td>November</td>\n",
       "      <td>2013</td>\n",
       "      <td>19</td>\n",
       "      <td>Youth (&lt;25)</td>\n",
       "      <td>M</td>\n",
       "      <td>Canada</td>\n",
       "      <td>British Columbia</td>\n",
       "      <td>Accessories</td>\n",
       "      <td>Bike Racks</td>\n",
       "      <td>Hitch Rack - 4-Bike</td>\n",
       "      <td>8</td>\n",
       "      <td>45</td>\n",
       "      <td>120</td>\n",
       "      <td>590</td>\n",
       "      <td>360</td>\n",
       "      <td>600</td>\n",
       "    </tr>\n",
       "    <tr>\n",
       "      <th>1</th>\n",
       "      <td>26/11/2015</td>\n",
       "      <td>26</td>\n",
       "      <td>November</td>\n",
       "      <td>2015</td>\n",
       "      <td>19</td>\n",
       "      <td>Youth (&lt;25)</td>\n",
       "      <td>M</td>\n",
       "      <td>Canada</td>\n",
       "      <td>British Columbia</td>\n",
       "      <td>Accessories</td>\n",
       "      <td>Bike Racks</td>\n",
       "      <td>Hitch Rack - 4-Bike</td>\n",
       "      <td>8</td>\n",
       "      <td>45</td>\n",
       "      <td>120</td>\n",
       "      <td>590</td>\n",
       "      <td>360</td>\n",
       "      <td>600</td>\n",
       "    </tr>\n",
       "    <tr>\n",
       "      <th>2</th>\n",
       "      <td>23/03/2014</td>\n",
       "      <td>23</td>\n",
       "      <td>March</td>\n",
       "      <td>2014</td>\n",
       "      <td>49</td>\n",
       "      <td>Adults (35-64)</td>\n",
       "      <td>M</td>\n",
       "      <td>Australia</td>\n",
       "      <td>New South Wales</td>\n",
       "      <td>Accessories</td>\n",
       "      <td>Bike Racks</td>\n",
       "      <td>Hitch Rack - 4-Bike</td>\n",
       "      <td>23</td>\n",
       "      <td>45</td>\n",
       "      <td>120</td>\n",
       "      <td>1366</td>\n",
       "      <td>1035</td>\n",
       "      <td>1725</td>\n",
       "    </tr>\n",
       "    <tr>\n",
       "      <th>3</th>\n",
       "      <td>23/03/2016</td>\n",
       "      <td>23</td>\n",
       "      <td>March</td>\n",
       "      <td>2016</td>\n",
       "      <td>49</td>\n",
       "      <td>Adults (35-64)</td>\n",
       "      <td>M</td>\n",
       "      <td>Australia</td>\n",
       "      <td>New South Wales</td>\n",
       "      <td>Accessories</td>\n",
       "      <td>Bike Racks</td>\n",
       "      <td>Hitch Rack - 4-Bike</td>\n",
       "      <td>20</td>\n",
       "      <td>45</td>\n",
       "      <td>120</td>\n",
       "      <td>1188</td>\n",
       "      <td>900</td>\n",
       "      <td>1500</td>\n",
       "    </tr>\n",
       "    <tr>\n",
       "      <th>4</th>\n",
       "      <td>15/05/2014</td>\n",
       "      <td>15</td>\n",
       "      <td>May</td>\n",
       "      <td>2014</td>\n",
       "      <td>47</td>\n",
       "      <td>Adults (35-64)</td>\n",
       "      <td>F</td>\n",
       "      <td>Australia</td>\n",
       "      <td>New South Wales</td>\n",
       "      <td>Accessories</td>\n",
       "      <td>Bike Racks</td>\n",
       "      <td>Hitch Rack - 4-Bike</td>\n",
       "      <td>4</td>\n",
       "      <td>45</td>\n",
       "      <td>120</td>\n",
       "      <td>238</td>\n",
       "      <td>180</td>\n",
       "      <td>300</td>\n",
       "    </tr>\n",
       "    <tr>\n",
       "      <th>...</th>\n",
       "      <td>...</td>\n",
       "      <td>...</td>\n",
       "      <td>...</td>\n",
       "      <td>...</td>\n",
       "      <td>...</td>\n",
       "      <td>...</td>\n",
       "      <td>...</td>\n",
       "      <td>...</td>\n",
       "      <td>...</td>\n",
       "      <td>...</td>\n",
       "      <td>...</td>\n",
       "      <td>...</td>\n",
       "      <td>...</td>\n",
       "      <td>...</td>\n",
       "      <td>...</td>\n",
       "      <td>...</td>\n",
       "      <td>...</td>\n",
       "      <td>...</td>\n",
       "    </tr>\n",
       "    <tr>\n",
       "      <th>113031</th>\n",
       "      <td>12/04/2016</td>\n",
       "      <td>12</td>\n",
       "      <td>April</td>\n",
       "      <td>2016</td>\n",
       "      <td>41</td>\n",
       "      <td>Adults (35-64)</td>\n",
       "      <td>M</td>\n",
       "      <td>United Kingdom</td>\n",
       "      <td>England</td>\n",
       "      <td>Clothing</td>\n",
       "      <td>Vests</td>\n",
       "      <td>Classic Vest, S</td>\n",
       "      <td>3</td>\n",
       "      <td>24</td>\n",
       "      <td>64</td>\n",
       "      <td>112</td>\n",
       "      <td>72</td>\n",
       "      <td>120</td>\n",
       "    </tr>\n",
       "    <tr>\n",
       "      <th>113032</th>\n",
       "      <td>02/04/2014</td>\n",
       "      <td>2</td>\n",
       "      <td>April</td>\n",
       "      <td>2014</td>\n",
       "      <td>18</td>\n",
       "      <td>Youth (&lt;25)</td>\n",
       "      <td>M</td>\n",
       "      <td>Australia</td>\n",
       "      <td>Queensland</td>\n",
       "      <td>Clothing</td>\n",
       "      <td>Vests</td>\n",
       "      <td>Classic Vest, M</td>\n",
       "      <td>22</td>\n",
       "      <td>24</td>\n",
       "      <td>64</td>\n",
       "      <td>655</td>\n",
       "      <td>528</td>\n",
       "      <td>880</td>\n",
       "    </tr>\n",
       "    <tr>\n",
       "      <th>113033</th>\n",
       "      <td>02/04/2016</td>\n",
       "      <td>2</td>\n",
       "      <td>April</td>\n",
       "      <td>2016</td>\n",
       "      <td>18</td>\n",
       "      <td>Youth (&lt;25)</td>\n",
       "      <td>M</td>\n",
       "      <td>Australia</td>\n",
       "      <td>Queensland</td>\n",
       "      <td>Clothing</td>\n",
       "      <td>Vests</td>\n",
       "      <td>Classic Vest, M</td>\n",
       "      <td>22</td>\n",
       "      <td>24</td>\n",
       "      <td>64</td>\n",
       "      <td>655</td>\n",
       "      <td>528</td>\n",
       "      <td>880</td>\n",
       "    </tr>\n",
       "    <tr>\n",
       "      <th>113034</th>\n",
       "      <td>04/03/2014</td>\n",
       "      <td>4</td>\n",
       "      <td>March</td>\n",
       "      <td>2014</td>\n",
       "      <td>37</td>\n",
       "      <td>Adults (35-64)</td>\n",
       "      <td>F</td>\n",
       "      <td>France</td>\n",
       "      <td>Seine (Paris)</td>\n",
       "      <td>Clothing</td>\n",
       "      <td>Vests</td>\n",
       "      <td>Classic Vest, L</td>\n",
       "      <td>24</td>\n",
       "      <td>24</td>\n",
       "      <td>64</td>\n",
       "      <td>684</td>\n",
       "      <td>576</td>\n",
       "      <td>960</td>\n",
       "    </tr>\n",
       "    <tr>\n",
       "      <th>113035</th>\n",
       "      <td>04/03/2016</td>\n",
       "      <td>4</td>\n",
       "      <td>March</td>\n",
       "      <td>2016</td>\n",
       "      <td>37</td>\n",
       "      <td>Adults (35-64)</td>\n",
       "      <td>F</td>\n",
       "      <td>France</td>\n",
       "      <td>Seine (Paris)</td>\n",
       "      <td>Clothing</td>\n",
       "      <td>Vests</td>\n",
       "      <td>Classic Vest, L</td>\n",
       "      <td>23</td>\n",
       "      <td>24</td>\n",
       "      <td>64</td>\n",
       "      <td>655</td>\n",
       "      <td>552</td>\n",
       "      <td>920</td>\n",
       "    </tr>\n",
       "  </tbody>\n",
       "</table>\n",
       "<p>113036 rows × 18 columns</p>\n",
       "</div>"
      ],
      "text/plain": [
       "              Date  Day     Month  Year  Customer_Age       Age_Group  \\\n",
       "0       26/11/2013   26  November  2013            19     Youth (<25)   \n",
       "1       26/11/2015   26  November  2015            19     Youth (<25)   \n",
       "2       23/03/2014   23     March  2014            49  Adults (35-64)   \n",
       "3       23/03/2016   23     March  2016            49  Adults (35-64)   \n",
       "4       15/05/2014   15       May  2014            47  Adults (35-64)   \n",
       "...            ...  ...       ...   ...           ...             ...   \n",
       "113031  12/04/2016   12     April  2016            41  Adults (35-64)   \n",
       "113032  02/04/2014    2     April  2014            18     Youth (<25)   \n",
       "113033  02/04/2016    2     April  2016            18     Youth (<25)   \n",
       "113034  04/03/2014    4     March  2014            37  Adults (35-64)   \n",
       "113035  04/03/2016    4     March  2016            37  Adults (35-64)   \n",
       "\n",
       "       Customer_Gender         Country             State Product_Category  \\\n",
       "0                    M          Canada  British Columbia      Accessories   \n",
       "1                    M          Canada  British Columbia      Accessories   \n",
       "2                    M       Australia   New South Wales      Accessories   \n",
       "3                    M       Australia   New South Wales      Accessories   \n",
       "4                    F       Australia   New South Wales      Accessories   \n",
       "...                ...             ...               ...              ...   \n",
       "113031               M  United Kingdom           England         Clothing   \n",
       "113032               M       Australia        Queensland         Clothing   \n",
       "113033               M       Australia        Queensland         Clothing   \n",
       "113034               F          France     Seine (Paris)         Clothing   \n",
       "113035               F          France     Seine (Paris)         Clothing   \n",
       "\n",
       "       Sub_Category              Product  Order_Quantity  Unit_Cost  \\\n",
       "0        Bike Racks  Hitch Rack - 4-Bike               8         45   \n",
       "1        Bike Racks  Hitch Rack - 4-Bike               8         45   \n",
       "2        Bike Racks  Hitch Rack - 4-Bike              23         45   \n",
       "3        Bike Racks  Hitch Rack - 4-Bike              20         45   \n",
       "4        Bike Racks  Hitch Rack - 4-Bike               4         45   \n",
       "...             ...                  ...             ...        ...   \n",
       "113031        Vests      Classic Vest, S               3         24   \n",
       "113032        Vests      Classic Vest, M              22         24   \n",
       "113033        Vests      Classic Vest, M              22         24   \n",
       "113034        Vests      Classic Vest, L              24         24   \n",
       "113035        Vests      Classic Vest, L              23         24   \n",
       "\n",
       "        Unit_Price  Profit  Cost  Revenue  \n",
       "0              120     590   360      600  \n",
       "1              120     590   360      600  \n",
       "2              120    1366  1035     1725  \n",
       "3              120    1188   900     1500  \n",
       "4              120     238   180      300  \n",
       "...            ...     ...   ...      ...  \n",
       "113031          64     112    72      120  \n",
       "113032          64     655   528      880  \n",
       "113033          64     655   528      880  \n",
       "113034          64     684   576      960  \n",
       "113035          64     655   552      920  \n",
       "\n",
       "[113036 rows x 18 columns]"
      ]
     },
     "execution_count": 4,
     "metadata": {},
     "output_type": "execute_result"
    }
   ],
   "source": [
    "df_bikesales # Overview of the dataset"
   ]
  },
  {
   "cell_type": "code",
   "execution_count": 5,
   "id": "e4604e1d",
   "metadata": {},
   "outputs": [
    {
     "data": {
      "text/html": [
       "<div>\n",
       "<style scoped>\n",
       "    .dataframe tbody tr th:only-of-type {\n",
       "        vertical-align: middle;\n",
       "    }\n",
       "\n",
       "    .dataframe tbody tr th {\n",
       "        vertical-align: top;\n",
       "    }\n",
       "\n",
       "    .dataframe thead th {\n",
       "        text-align: right;\n",
       "    }\n",
       "</style>\n",
       "<table border=\"1\" class=\"dataframe\">\n",
       "  <thead>\n",
       "    <tr style=\"text-align: right;\">\n",
       "      <th></th>\n",
       "      <th>Day</th>\n",
       "      <th>Year</th>\n",
       "      <th>Customer_Age</th>\n",
       "      <th>Order_Quantity</th>\n",
       "      <th>Unit_Cost</th>\n",
       "      <th>Unit_Price</th>\n",
       "      <th>Profit</th>\n",
       "      <th>Cost</th>\n",
       "      <th>Revenue</th>\n",
       "    </tr>\n",
       "  </thead>\n",
       "  <tbody>\n",
       "    <tr>\n",
       "      <th>count</th>\n",
       "      <td>113036.000000</td>\n",
       "      <td>113036.000000</td>\n",
       "      <td>113036.000000</td>\n",
       "      <td>113036.000000</td>\n",
       "      <td>113036.000000</td>\n",
       "      <td>113036.000000</td>\n",
       "      <td>113036.000000</td>\n",
       "      <td>113036.000000</td>\n",
       "      <td>113036.000000</td>\n",
       "    </tr>\n",
       "    <tr>\n",
       "      <th>mean</th>\n",
       "      <td>15.665753</td>\n",
       "      <td>2014.401739</td>\n",
       "      <td>35.919212</td>\n",
       "      <td>11.901660</td>\n",
       "      <td>267.296366</td>\n",
       "      <td>452.938427</td>\n",
       "      <td>285.051665</td>\n",
       "      <td>469.318695</td>\n",
       "      <td>372.681358</td>\n",
       "    </tr>\n",
       "    <tr>\n",
       "      <th>std</th>\n",
       "      <td>8.781567</td>\n",
       "      <td>1.272510</td>\n",
       "      <td>11.021936</td>\n",
       "      <td>9.561857</td>\n",
       "      <td>549.835483</td>\n",
       "      <td>922.071219</td>\n",
       "      <td>453.887443</td>\n",
       "      <td>884.866118</td>\n",
       "      <td>595.080571</td>\n",
       "    </tr>\n",
       "    <tr>\n",
       "      <th>min</th>\n",
       "      <td>1.000000</td>\n",
       "      <td>2011.000000</td>\n",
       "      <td>17.000000</td>\n",
       "      <td>1.000000</td>\n",
       "      <td>1.000000</td>\n",
       "      <td>2.000000</td>\n",
       "      <td>-30.000000</td>\n",
       "      <td>1.000000</td>\n",
       "      <td>1.000000</td>\n",
       "    </tr>\n",
       "    <tr>\n",
       "      <th>25%</th>\n",
       "      <td>8.000000</td>\n",
       "      <td>2013.000000</td>\n",
       "      <td>28.000000</td>\n",
       "      <td>2.000000</td>\n",
       "      <td>2.000000</td>\n",
       "      <td>5.000000</td>\n",
       "      <td>29.000000</td>\n",
       "      <td>28.000000</td>\n",
       "      <td>39.000000</td>\n",
       "    </tr>\n",
       "    <tr>\n",
       "      <th>50%</th>\n",
       "      <td>16.000000</td>\n",
       "      <td>2014.000000</td>\n",
       "      <td>35.000000</td>\n",
       "      <td>10.000000</td>\n",
       "      <td>9.000000</td>\n",
       "      <td>24.000000</td>\n",
       "      <td>101.000000</td>\n",
       "      <td>108.000000</td>\n",
       "      <td>135.000000</td>\n",
       "    </tr>\n",
       "    <tr>\n",
       "      <th>75%</th>\n",
       "      <td>23.000000</td>\n",
       "      <td>2016.000000</td>\n",
       "      <td>43.000000</td>\n",
       "      <td>20.000000</td>\n",
       "      <td>42.000000</td>\n",
       "      <td>70.000000</td>\n",
       "      <td>358.000000</td>\n",
       "      <td>432.000000</td>\n",
       "      <td>432.000000</td>\n",
       "    </tr>\n",
       "    <tr>\n",
       "      <th>max</th>\n",
       "      <td>31.000000</td>\n",
       "      <td>2016.000000</td>\n",
       "      <td>87.000000</td>\n",
       "      <td>32.000000</td>\n",
       "      <td>2171.000000</td>\n",
       "      <td>3578.000000</td>\n",
       "      <td>15096.000000</td>\n",
       "      <td>42978.000000</td>\n",
       "      <td>26158.000000</td>\n",
       "    </tr>\n",
       "  </tbody>\n",
       "</table>\n",
       "</div>"
      ],
      "text/plain": [
       "                 Day           Year   Customer_Age  Order_Quantity  \\\n",
       "count  113036.000000  113036.000000  113036.000000   113036.000000   \n",
       "mean       15.665753    2014.401739      35.919212       11.901660   \n",
       "std         8.781567       1.272510      11.021936        9.561857   \n",
       "min         1.000000    2011.000000      17.000000        1.000000   \n",
       "25%         8.000000    2013.000000      28.000000        2.000000   \n",
       "50%        16.000000    2014.000000      35.000000       10.000000   \n",
       "75%        23.000000    2016.000000      43.000000       20.000000   \n",
       "max        31.000000    2016.000000      87.000000       32.000000   \n",
       "\n",
       "           Unit_Cost     Unit_Price         Profit           Cost  \\\n",
       "count  113036.000000  113036.000000  113036.000000  113036.000000   \n",
       "mean      267.296366     452.938427     285.051665     469.318695   \n",
       "std       549.835483     922.071219     453.887443     884.866118   \n",
       "min         1.000000       2.000000     -30.000000       1.000000   \n",
       "25%         2.000000       5.000000      29.000000      28.000000   \n",
       "50%         9.000000      24.000000     101.000000     108.000000   \n",
       "75%        42.000000      70.000000     358.000000     432.000000   \n",
       "max      2171.000000    3578.000000   15096.000000   42978.000000   \n",
       "\n",
       "             Revenue  \n",
       "count  113036.000000  \n",
       "mean      372.681358  \n",
       "std       595.080571  \n",
       "min         1.000000  \n",
       "25%        39.000000  \n",
       "50%       135.000000  \n",
       "75%       432.000000  \n",
       "max     26158.000000  "
      ]
     },
     "execution_count": 5,
     "metadata": {},
     "output_type": "execute_result"
    }
   ],
   "source": [
    "df_bikesales.describe() # Statistical Analysis of the Dataset"
   ]
  },
  {
   "cell_type": "code",
   "execution_count": 6,
   "id": "5cf71363",
   "metadata": {},
   "outputs": [],
   "source": [
    "# Defining the categorical and numerical features\n",
    "\n",
    "categorical = ['Month', 'Customer_Gender', 'Country', 'State',\n",
    "'Product_Category', 'Sub_Category', 'Product']\n",
    "\n",
    "numerical = ['Year','Customer_Age', 'Day','Order_Quantity','Unit_Cost','Unit_Price','Profit','Cost','Revenue']"
   ]
  },
  {
   "cell_type": "code",
   "execution_count": 7,
   "id": "ed726bc3",
   "metadata": {},
   "outputs": [
    {
     "data": {
      "text/plain": [
       "Year             -0.371120\n",
       "Customer_Age      0.525300\n",
       "Day               0.013722\n",
       "Order_Quantity    0.378179\n",
       "Unit_Cost         2.111548\n",
       "Unit_Price        2.088041\n",
       "Profit            4.002662\n",
       "Cost              5.083239\n",
       "Revenue           4.443662\n",
       "dtype: float64"
      ]
     },
     "execution_count": 7,
     "metadata": {},
     "output_type": "execute_result"
    }
   ],
   "source": [
    "df_bikesales[numerical].skew() # Year has slight left skew."
   ]
  },
  {
   "cell_type": "code",
   "execution_count": 8,
   "id": "601a3a25",
   "metadata": {},
   "outputs": [
    {
     "name": "stdout",
     "output_type": "stream",
     "text": [
      "rows are 113036 , columns are 18\n"
     ]
    }
   ],
   "source": [
    "# Printing numbers of rows and columns\n",
    "\n",
    "rows=df_bikesales.shape[0]\n",
    "cols=df_bikesales.shape[1]\n",
    "print(f\"rows are {rows} , columns are {cols}\" )"
   ]
  },
  {
   "cell_type": "code",
   "execution_count": 9,
   "id": "d1a833ac",
   "metadata": {},
   "outputs": [
    {
     "name": "stdout",
     "output_type": "stream",
     "text": [
      "<class 'pandas.core.frame.DataFrame'>\n",
      "RangeIndex: 113036 entries, 0 to 113035\n",
      "Data columns (total 18 columns):\n",
      " #   Column            Non-Null Count   Dtype \n",
      "---  ------            --------------   ----- \n",
      " 0   Date              113036 non-null  object\n",
      " 1   Day               113036 non-null  int64 \n",
      " 2   Month             113036 non-null  object\n",
      " 3   Year              113036 non-null  int64 \n",
      " 4   Customer_Age      113036 non-null  int64 \n",
      " 5   Age_Group         113036 non-null  object\n",
      " 6   Customer_Gender   113036 non-null  object\n",
      " 7   Country           113036 non-null  object\n",
      " 8   State             113036 non-null  object\n",
      " 9   Product_Category  113036 non-null  object\n",
      " 10  Sub_Category      113036 non-null  object\n",
      " 11  Product           113036 non-null  object\n",
      " 12  Order_Quantity    113036 non-null  int64 \n",
      " 13  Unit_Cost         113036 non-null  int64 \n",
      " 14  Unit_Price        113036 non-null  int64 \n",
      " 15  Profit            113036 non-null  int64 \n",
      " 16  Cost              113036 non-null  int64 \n",
      " 17  Revenue           113036 non-null  int64 \n",
      "dtypes: int64(9), object(9)\n",
      "memory usage: 15.5+ MB\n"
     ]
    }
   ],
   "source": [
    "df_bikesales.info() "
   ]
  },
  {
   "cell_type": "code",
   "execution_count": 10,
   "id": "b6f76079",
   "metadata": {},
   "outputs": [],
   "source": [
    "# Creating a function to determine null values in the dataset\n",
    "\n",
    "def get_null_values_info(df_bikesales):\n",
    "     \n",
    "    a=df_bikesales.isnull().sum()\n",
    "    df_bikesales1=pd.DataFrame({\"Null Values\":a})\n",
    "    return df_bikesales1"
   ]
  },
  {
   "cell_type": "code",
   "execution_count": 11,
   "id": "cd725d80",
   "metadata": {
    "scrolled": true
   },
   "outputs": [
    {
     "data": {
      "text/html": [
       "<div>\n",
       "<style scoped>\n",
       "    .dataframe tbody tr th:only-of-type {\n",
       "        vertical-align: middle;\n",
       "    }\n",
       "\n",
       "    .dataframe tbody tr th {\n",
       "        vertical-align: top;\n",
       "    }\n",
       "\n",
       "    .dataframe thead th {\n",
       "        text-align: right;\n",
       "    }\n",
       "</style>\n",
       "<table border=\"1\" class=\"dataframe\">\n",
       "  <thead>\n",
       "    <tr style=\"text-align: right;\">\n",
       "      <th></th>\n",
       "      <th>Null Values</th>\n",
       "    </tr>\n",
       "  </thead>\n",
       "  <tbody>\n",
       "    <tr>\n",
       "      <th>Date</th>\n",
       "      <td>0</td>\n",
       "    </tr>\n",
       "    <tr>\n",
       "      <th>Day</th>\n",
       "      <td>0</td>\n",
       "    </tr>\n",
       "    <tr>\n",
       "      <th>Month</th>\n",
       "      <td>0</td>\n",
       "    </tr>\n",
       "    <tr>\n",
       "      <th>Year</th>\n",
       "      <td>0</td>\n",
       "    </tr>\n",
       "    <tr>\n",
       "      <th>Customer_Age</th>\n",
       "      <td>0</td>\n",
       "    </tr>\n",
       "    <tr>\n",
       "      <th>Age_Group</th>\n",
       "      <td>0</td>\n",
       "    </tr>\n",
       "    <tr>\n",
       "      <th>Customer_Gender</th>\n",
       "      <td>0</td>\n",
       "    </tr>\n",
       "    <tr>\n",
       "      <th>Country</th>\n",
       "      <td>0</td>\n",
       "    </tr>\n",
       "    <tr>\n",
       "      <th>State</th>\n",
       "      <td>0</td>\n",
       "    </tr>\n",
       "    <tr>\n",
       "      <th>Product_Category</th>\n",
       "      <td>0</td>\n",
       "    </tr>\n",
       "    <tr>\n",
       "      <th>Sub_Category</th>\n",
       "      <td>0</td>\n",
       "    </tr>\n",
       "    <tr>\n",
       "      <th>Product</th>\n",
       "      <td>0</td>\n",
       "    </tr>\n",
       "    <tr>\n",
       "      <th>Order_Quantity</th>\n",
       "      <td>0</td>\n",
       "    </tr>\n",
       "    <tr>\n",
       "      <th>Unit_Cost</th>\n",
       "      <td>0</td>\n",
       "    </tr>\n",
       "    <tr>\n",
       "      <th>Unit_Price</th>\n",
       "      <td>0</td>\n",
       "    </tr>\n",
       "    <tr>\n",
       "      <th>Profit</th>\n",
       "      <td>0</td>\n",
       "    </tr>\n",
       "    <tr>\n",
       "      <th>Cost</th>\n",
       "      <td>0</td>\n",
       "    </tr>\n",
       "    <tr>\n",
       "      <th>Revenue</th>\n",
       "      <td>0</td>\n",
       "    </tr>\n",
       "  </tbody>\n",
       "</table>\n",
       "</div>"
      ],
      "text/plain": [
       "                  Null Values\n",
       "Date                        0\n",
       "Day                         0\n",
       "Month                       0\n",
       "Year                        0\n",
       "Customer_Age                0\n",
       "Age_Group                   0\n",
       "Customer_Gender             0\n",
       "Country                     0\n",
       "State                       0\n",
       "Product_Category            0\n",
       "Sub_Category                0\n",
       "Product                     0\n",
       "Order_Quantity              0\n",
       "Unit_Cost                   0\n",
       "Unit_Price                  0\n",
       "Profit                      0\n",
       "Cost                        0\n",
       "Revenue                     0"
      ]
     },
     "execution_count": 11,
     "metadata": {},
     "output_type": "execute_result"
    }
   ],
   "source": [
    "# There are no non values in the dataset\n",
    "null_values=get_null_values_info(df_bikesales)\n",
    "null_values"
   ]
  },
  {
   "cell_type": "code",
   "execution_count": 12,
   "id": "82a913a5",
   "metadata": {},
   "outputs": [
    {
     "data": {
      "text/plain": [
       "True"
      ]
     },
     "execution_count": 12,
     "metadata": {},
     "output_type": "execute_result"
    }
   ],
   "source": [
    "# To determine if there are duplicate values\n",
    "\n",
    "df_bikesales.duplicated().values.any()"
   ]
  },
  {
   "cell_type": "code",
   "execution_count": 13,
   "id": "40594a07",
   "metadata": {},
   "outputs": [
    {
     "data": {
      "text/plain": [
       "0         False\n",
       "1         False\n",
       "2         False\n",
       "3         False\n",
       "4         False\n",
       "          ...  \n",
       "113031    False\n",
       "113032    False\n",
       "113033    False\n",
       "113034    False\n",
       "113035    False\n",
       "Length: 113036, dtype: bool"
      ]
     },
     "execution_count": 13,
     "metadata": {},
     "output_type": "execute_result"
    }
   ],
   "source": [
    "# Output the duplicated values\n",
    "df_bikesales.duplicated()"
   ]
  },
  {
   "cell_type": "code",
   "execution_count": 14,
   "id": "9c482406",
   "metadata": {},
   "outputs": [
    {
     "data": {
      "text/plain": [
       "1000"
      ]
     },
     "execution_count": 14,
     "metadata": {},
     "output_type": "execute_result"
    }
   ],
   "source": [
    "# Calculating the total duplicated values\n",
    "\n",
    "df_bikesales.duplicated().sum()"
   ]
  },
  {
   "cell_type": "code",
   "execution_count": 15,
   "id": "f2c7767f",
   "metadata": {},
   "outputs": [
    {
     "name": "stdout",
     "output_type": "stream",
     "text": [
      "<class 'pandas.core.frame.DataFrame'>\n",
      "Int64Index: 112036 entries, 0 to 113035\n",
      "Data columns (total 18 columns):\n",
      " #   Column            Non-Null Count   Dtype \n",
      "---  ------            --------------   ----- \n",
      " 0   Date              112036 non-null  object\n",
      " 1   Day               112036 non-null  int64 \n",
      " 2   Month             112036 non-null  object\n",
      " 3   Year              112036 non-null  int64 \n",
      " 4   Customer_Age      112036 non-null  int64 \n",
      " 5   Age_Group         112036 non-null  object\n",
      " 6   Customer_Gender   112036 non-null  object\n",
      " 7   Country           112036 non-null  object\n",
      " 8   State             112036 non-null  object\n",
      " 9   Product_Category  112036 non-null  object\n",
      " 10  Sub_Category      112036 non-null  object\n",
      " 11  Product           112036 non-null  object\n",
      " 12  Order_Quantity    112036 non-null  int64 \n",
      " 13  Unit_Cost         112036 non-null  int64 \n",
      " 14  Unit_Price        112036 non-null  int64 \n",
      " 15  Profit            112036 non-null  int64 \n",
      " 16  Cost              112036 non-null  int64 \n",
      " 17  Revenue           112036 non-null  int64 \n",
      "dtypes: int64(9), object(9)\n",
      "memory usage: 16.2+ MB\n"
     ]
    }
   ],
   "source": [
    "# Removal of duplicates \n",
    "\n",
    "df_bikesales = df_bikesales.drop_duplicates()\n",
    "df_bikesales.info()"
   ]
  },
  {
   "cell_type": "code",
   "execution_count": 16,
   "id": "e7d931f8",
   "metadata": {},
   "outputs": [
    {
     "data": {
      "text/plain": [
       "(112036, 18)"
      ]
     },
     "execution_count": 16,
     "metadata": {},
     "output_type": "execute_result"
    }
   ],
   "source": [
    "df_bikesales = df_bikesales.drop_duplicates()\n",
    "df_bikesales.shape"
   ]
  },
  {
   "cell_type": "code",
   "execution_count": 17,
   "id": "a667aa30",
   "metadata": {},
   "outputs": [
    {
     "data": {
      "text/plain": [
       "False"
      ]
     },
     "execution_count": 17,
     "metadata": {},
     "output_type": "execute_result"
    }
   ],
   "source": [
    "df_bikesales.duplicated().values.any()"
   ]
  },
  {
   "cell_type": "markdown",
   "id": "e11e7522",
   "metadata": {},
   "source": [
    "# MACHINE LEARNING PROBLEM"
   ]
  },
  {
   "cell_type": "markdown",
   "id": "8c65751e",
   "metadata": {},
   "source": [
    "Its a regression task.\n",
    "\n",
    "Making predictions on Revenue based on certain features.\n",
    "\n",
    "Build different models, compare and get the best predictions."
   ]
  },
  {
   "cell_type": "markdown",
   "id": "716963f5",
   "metadata": {},
   "source": [
    " # DATA EXPLORATION ANALYSIS- PREPROCESSING,NORMALIZATION AND VISUALISATION"
   ]
  },
  {
   "cell_type": "code",
   "execution_count": 18,
   "id": "f9b16009",
   "metadata": {},
   "outputs": [
    {
     "data": {
      "image/png": "[encoded data removed]",
      "text/plain": [
       "<Figure size 864x720 with 9 Axes>"
      ]
     },
     "metadata": {
      "needs_background": "light"
     },
     "output_type": "display_data"
    }
   ],
   "source": [
    "# Univariate Analysis- Numerical features have skewness in different degrees.\n",
    "# Different scale and skewness will be dealt with during the modeling by using standardization (Standard scaler)\n",
    "\n",
    "df_bikesales[numerical].hist(figsize=(12,10));"
   ]
  },
  {
   "cell_type": "markdown",
   "id": "85a767cd",
   "metadata": {},
   "source": [
    "Observation: Year is skewed to the left while Order Quantity,Unit_Cost,Unit_price,Profit,Cost and Revenue are skewed to the right."
   ]
  },
  {
   "cell_type": "code",
   "execution_count": 19,
   "id": "7d78163e",
   "metadata": {},
   "outputs": [
    {
     "data": {
      "image/png": "[encoded data removed]",
      "text/plain": [
       "<Figure size 432x288 with 1 Axes>"
      ]
     },
     "metadata": {
      "needs_background": "light"
     },
     "output_type": "display_data"
    }
   ],
   "source": [
    "# Bivariate Analysis- To determine the empirical relationships between the features and the Outcome variable\n",
    "\n",
    "# Create a Scatter plot using dots to visualize relationship between Year and Revenue\n",
    "\n",
    "sns.scatterplot(x= \"Year\", y=\"Revenue\", data= df_bikesales)\n",
    "\n",
    "# Set axis labels and title\n",
    "plt.xlabel('Year')\n",
    "plt.ylabel('Revenue')\n",
    "plt.title('Bivariate Analysis of Bike Sales Dataset')\n",
    "\n",
    "# Show the plot\n",
    "plt.show()\n"
   ]
  },
  {
   "cell_type": "markdown",
   "id": "dd8547aa",
   "metadata": {},
   "source": [
    "Observation: Outliers in 2013 and 2015"
   ]
  },
  {
   "cell_type": "code",
   "execution_count": 20,
   "id": "4cca34cd",
   "metadata": {},
   "outputs": [
    {
     "data": {
      "image/png": "[encoded data removed]",
      "text/plain": [
       "<Figure size 432x288 with 1 Axes>"
      ]
     },
     "metadata": {
      "needs_background": "light"
     },
     "output_type": "display_data"
    }
   ],
   "source": [
    "# Bivariate Analysis- To determine the empirical relationships between the features and the Outcome variable\n",
    "\n",
    "# Create a Scatter plot using dots to visualize relationship between Customer_Age and Revenue\n",
    "\n",
    "sns.scatterplot(x= \"Customer_Age\", y=\"Revenue\", data= df_bikesales)\n",
    "\n",
    "\n",
    "# Set axis labels and title\n",
    "plt.xlabel('Customer_Age')\n",
    "plt.ylabel('Revenue')\n",
    "plt.title('Bivariate Analysis of Bike Sales Dataset')\n",
    "\n",
    "# Show the plot\n",
    "plt.show()\n"
   ]
  },
  {
   "cell_type": "markdown",
   "id": "ad5127b8",
   "metadata": {},
   "source": [
    "Observation:Outliers between 50 and 60 years of Age"
   ]
  },
  {
   "cell_type": "code",
   "execution_count": 21,
   "id": "8ee7e528",
   "metadata": {},
   "outputs": [
    {
     "data": {
      "image/png": "[encoded data removed]",
      "text/plain": [
       "<Figure size 432x288 with 1 Axes>"
      ]
     },
     "metadata": {
      "needs_background": "light"
     },
     "output_type": "display_data"
    }
   ],
   "source": [
    "# Bivariate Analysis- To determine the empirical relationships between the features and the Outcome variable\n",
    "\n",
    "# Create a Scatter plot using dots to visualize relationship between Order_Quantity and Revenue\n",
    "\n",
    "sns.scatterplot(x= \"Order_Quantity\", y=\"Revenue\", data= df_bikesales)\n",
    "\n",
    "\n",
    "\n",
    "\n",
    "# Set axis labels and title\n",
    "plt.xlabel('Order_Quantity')\n",
    "plt.ylabel('Revenue')\n",
    "plt.title('Bivariate Analysis of Bike Sales Dataset')\n",
    "\n",
    "# Show the plot\n",
    "plt.show()\n"
   ]
  },
  {
   "cell_type": "markdown",
   "id": "73ecb105",
   "metadata": {},
   "source": [
    "Observation:Outliers between 25 and 30 Order Quantity"
   ]
  },
  {
   "cell_type": "code",
   "execution_count": 22,
   "id": "396ed765",
   "metadata": {},
   "outputs": [
    {
     "data": {
      "image/png": "[encoded data removed]",
      "text/plain": [
       "<Figure size 432x288 with 1 Axes>"
      ]
     },
     "metadata": {
      "needs_background": "light"
     },
     "output_type": "display_data"
    }
   ],
   "source": [
    "# Bivariate Analysis- To determine the empirical relationships between the features and the Outcome variable\n",
    "\n",
    "# Create a Scatter plot using dots to visualize relationship between Unit_Cost and Revenue\n",
    "\n",
    "sns.scatterplot(x= \"Unit_Cost\", y=\"Revenue\", data= df_bikesales)\n",
    "\n",
    "\n",
    "\n",
    "# Set axis labels and title\n",
    "plt.xlabel('Unit_Cost')\n",
    "plt.ylabel('Revenue')\n",
    "plt.title('Bivariate Analysis of Bike Sales Dataset')\n",
    "\n",
    "# Show the plot\n",
    "plt.show()"
   ]
  },
  {
   "cell_type": "markdown",
   "id": "88e754ba",
   "metadata": {},
   "source": [
    "Observation:Outliers at 1500 Unit Cost"
   ]
  },
  {
   "cell_type": "code",
   "execution_count": 23,
   "id": "282e581c",
   "metadata": {},
   "outputs": [
    {
     "data": {
      "image/png": "[encoded data removed]",
      "text/plain": [
       "<Figure size 432x288 with 1 Axes>"
      ]
     },
     "metadata": {
      "needs_background": "light"
     },
     "output_type": "display_data"
    }
   ],
   "source": [
    "# Bivariate Analysis- To determine the empirical relationships between the features and the Outcome variable\n",
    "\n",
    "# Create a Scatter plot using dots to visualize relationship between Cost and Revenue\n",
    "\n",
    "sns.scatterplot(x= \"Cost\", y=\"Revenue\", data= df_bikesales)\n",
    "\n",
    "\n",
    "# Set axis labels and title\n",
    "plt.xlabel('Cost')\n",
    "plt.ylabel('Revenue')\n",
    "plt.title('Bivariate Analysis of Bike Sales Dataset')\n",
    "\n",
    "# Show the plot\n",
    "plt.show()"
   ]
  },
  {
   "cell_type": "code",
   "execution_count": 24,
   "id": "69de2d76",
   "metadata": {},
   "outputs": [
    {
     "data": {
      "image/png": "[encoded data removed]",
      "text/plain": [
       "<Figure size 432x288 with 1 Axes>"
      ]
     },
     "metadata": {
      "needs_background": "light"
     },
     "output_type": "display_data"
    }
   ],
   "source": [
    "# Bivariate Analysis- To determine the empirical relationships between the features and the Outcome variable\n",
    "\n",
    "# Create a Scatter plot using dots to visualize relationship between Profit and Revenue\n",
    "\n",
    "sns.scatterplot(x= \"Profit\", y=\"Revenue\", data= df_bikesales)\n",
    "\n",
    "\n",
    "# Set axis labels and title\n",
    "plt.xlabel('Profit')\n",
    "plt.ylabel('Revenue')\n",
    "plt.title('Bivariate Analysis of Bike Sales Dataset')\n",
    "\n",
    "# Show the plot\n",
    "plt.show()"
   ]
  },
  {
   "cell_type": "code",
   "execution_count": 25,
   "id": "00e30ea9",
   "metadata": {},
   "outputs": [
    {
     "data": {
      "image/png": "[encoded data removed]",
      "text/plain": [
       "<Figure size 432x288 with 1 Axes>"
      ]
     },
     "metadata": {
      "needs_background": "light"
     },
     "output_type": "display_data"
    }
   ],
   "source": [
    "# Bivariate Analysis- To determine the empirical relationships between the features and the Outcome variable\n",
    "\n",
    "# Create a Scatter plot using dots to visualize relationship between Unit_Price and Revenue\n",
    "\n",
    "sns.scatterplot(x= \"Unit_Price\", y=\"Revenue\", data= df_bikesales)\n",
    "\n",
    "\n",
    "\n",
    "# Set axis labels and title\n",
    "plt.xlabel('Unit_Price')\n",
    "plt.ylabel('Revenue')\n",
    "plt.title('Bivariate Analysis of Bike Sales Dataset')\n",
    "\n",
    "# Show the plot\n",
    "plt.show()"
   ]
  },
  {
   "cell_type": "markdown",
   "id": "5264d1e4",
   "metadata": {},
   "source": [
    "Observation:Outliers at 2500 for Unit Price"
   ]
  },
  {
   "cell_type": "code",
   "execution_count": 26,
   "id": "8bbb0d36",
   "metadata": {
    "scrolled": true
   },
   "outputs": [
    {
     "data": {
      "image/png": "[encoded data removed]",
      "text/plain": [
       "<Figure size 432x288 with 1 Axes>"
      ]
     },
     "metadata": {
      "needs_background": "light"
     },
     "output_type": "display_data"
    }
   ],
   "source": [
    "# Removal of Outliers in \"Revenue\" column as it has high standard deviation- very skewed\n",
    "\n",
    "sns.boxplot(df_bikesales.Revenue);"
   ]
  },
  {
   "cell_type": "code",
   "execution_count": 27,
   "id": "26723f38",
   "metadata": {},
   "outputs": [
    {
     "data": {
      "image/png": "[encoded data removed]",
      "text/plain": [
       "<Figure size 432x288 with 1 Axes>"
      ]
     },
     "metadata": {
      "needs_background": "light"
     },
     "output_type": "display_data"
    }
   ],
   "source": [
    "# Seaborn visualization showing revenue less than or equal to 4000\n",
    "\n",
    "df_bikesales=df_bikesales[df_bikesales.Revenue<=4000]\n",
    "df_bikesales.shape\n",
    "sns.boxplot(df_bikesales.Revenue);"
   ]
  },
  {
   "cell_type": "code",
   "execution_count": 28,
   "id": "11b74bcf",
   "metadata": {},
   "outputs": [
    {
     "data": {
      "image/png": "[encoded data removed]",
      "text/plain": [
       "<Figure size 720x432 with 1 Axes>"
      ]
     },
     "metadata": {
      "needs_background": "light"
     },
     "output_type": "display_data"
    }
   ],
   "source": [
    "## Analysing the distribution of customers by \"Age-Group\" Using the Bar chart\n",
    "\n",
    "Age_Group_data = df_bikesales['Age_Group'].value_counts()\n",
    "Agedata1 = list(Age_Group_data.index)\n",
    "\n",
    "# Set the width and height of the figure\n",
    "plt.figure(figsize=(10,6))\n",
    "\n",
    "# Add title\n",
    "plt.title(\"Distribution of Bikesales Customers by Age-Group \",fontsize=14)\n",
    "\n",
    "\n",
    "sns.barplot(x = Agedata1, y = Age_Group_data)\n",
    "\n",
    "for i in range(len(Age_Group_data)):\n",
    "    plt.text(i,Age_Group_data[i],Age_Group_data[i],ha='center',va='bottom')\n",
    "    \n",
    "\n",
    "# Add label for vertical axis\n",
    "plt.ylabel(\"Total Number of Customers\",fontsize= 12)\n",
    "plt.show()"
   ]
  },
  {
   "cell_type": "markdown",
   "id": "14e708cd",
   "metadata": {},
   "source": [
    "Observation: Adults between ages of 35 and 64 made up the most customers"
   ]
  },
  {
   "cell_type": "code",
   "execution_count": 29,
   "id": "47a9c290",
   "metadata": {},
   "outputs": [
    {
     "data": {
      "image/png": "[encoded data removed]",
      "text/plain": [
       "<Figure size 432x288 with 1 Axes>"
      ]
     },
     "metadata": {
      "needs_background": "light"
     },
     "output_type": "display_data"
    }
   ],
   "source": [
    "# bikesale Year with the most Revenue\n",
    "\n",
    "Year_data = df_bikesales.groupby('Year').sum()['Revenue'].sort_values(ascending=False)\n",
    "\n",
    "Year_data.plot(kind='barh', color='red', alpha=0.5, title='Years by Revenue')\n",
    "plt.show()"
   ]
  },
  {
   "cell_type": "markdown",
   "id": "d9b511c2",
   "metadata": {},
   "source": [
    "Observation: The most Revenue was made in year 2015"
   ]
  },
  {
   "cell_type": "code",
   "execution_count": 30,
   "id": "b426d0cc",
   "metadata": {},
   "outputs": [
    {
     "data": {
      "image/png": "[encoded data removed]",
      "text/plain": [
       "<Figure size 1008x576 with 1 Axes>"
      ]
     },
     "metadata": {
      "needs_background": "light"
     },
     "output_type": "display_data"
    }
   ],
   "source": [
    "Month_data = df_bikesales.groupby('Month').sum()['Order_Quantity'].sort_values(ascending=False).head(5)\n",
    "\n",
    "Month_data.plot(kind='bar', color='red', alpha=0.5, title='Years by Revenue', rot=0, figsize=(14,8))\n",
    "# plt.bar(Month_data.index, Month_data)\n",
    "\n",
    "for i in range(len(Month_data)):\n",
    "    plt.text(i,Month_data[i],Month_data[i],ha='center',va='bottom')\n",
    "    \n",
    "plt.title('Top 5 Months by Order_Quantity')    \n",
    "plt.show()"
   ]
  },
  {
   "cell_type": "markdown",
   "id": "14c42041",
   "metadata": {},
   "source": [
    "Observation: The month of December has the highest Order Quantity"
   ]
  },
  {
   "cell_type": "code",
   "execution_count": 31,
   "id": "71699a6b",
   "metadata": {},
   "outputs": [],
   "source": [
    "# Order quantity  based on Gender\n",
    "\n",
    "Grouped_Gender = df_bikesales.groupby('Customer_Gender').sum()['Order_Quantity'].sort_values(ascending=False)\n",
    "Gender = list(Grouped_Gender.index)\n",
    "count = list(Grouped_Gender.values)"
   ]
  },
  {
   "cell_type": "code",
   "execution_count": 32,
   "id": "c691c035",
   "metadata": {},
   "outputs": [
    {
     "data": {
      "image/png": "[encoded data removed]",
      "text/plain": [
       "<Figure size 432x288 with 1 Axes>"
      ]
     },
     "metadata": {},
     "output_type": "display_data"
    }
   ],
   "source": [
    "plt.pie(count, labels = Gender,  autopct='%.0f%%')\n",
    "plt.title('Order Quantity based on Gender')\n",
    "  \n",
    "# displaying chart\n",
    "plt.show()"
   ]
  },
  {
   "cell_type": "code",
   "execution_count": 1,
   "id": "f84919b0",
   "metadata": {},
   "outputs": [
    {
     "ename": "SyntaxError",
     "evalue": "invalid syntax (2356434471.py, line 1)",
     "output_type": "error",
     "traceback": [
      "\u001b[1;36m  Input \u001b[1;32mIn [1]\u001b[1;36m\u001b[0m\n\u001b[1;33m    Observation: Males has the higher Order Quantity than Females\u001b[0m\n\u001b[1;37m                       ^\u001b[0m\n\u001b[1;31mSyntaxError\u001b[0m\u001b[1;31m:\u001b[0m invalid syntax\n"
     ]
    }
   ],
   "source": [
    "Observation: Males has the higher Order Quantity than Females"
   ]
  },
  {
   "cell_type": "code",
   "execution_count": 33,
   "id": "23bf9ca3",
   "metadata": {},
   "outputs": [
    {
     "data": {
      "image/png": "[encoded data removed]",
      "text/plain": [
       "<Figure size 432x288 with 1 Axes>"
      ]
     },
     "metadata": {},
     "output_type": "display_data"
    }
   ],
   "source": [
    "# Revenue made based on Country\n",
    "\n",
    "Grouped_Country = df_bikesales.groupby('Country').sum()['Revenue'].sort_values(ascending=False)\n",
    "\n",
    "Grouped_Country.plot(kind='pie', autopct='%.0f%%', title='Revenue based on Country')\n",
    "plt.show()"
   ]
  },
  {
   "cell_type": "markdown",
   "id": "a51e272b",
   "metadata": {},
   "source": [
    "Observation: Country with the most Revenue is the United State"
   ]
  },
  {
   "cell_type": "code",
   "execution_count": 34,
   "id": "629a4549",
   "metadata": {},
   "outputs": [
    {
     "data": {
      "image/png": "[encoded data removed]",
      "text/plain": [
       "<Figure size 1008x504 with 1 Axes>"
      ]
     },
     "metadata": {
      "needs_background": "light"
     },
     "output_type": "display_data"
    }
   ],
   "source": [
    "# Sub-product Category ordered the most\n",
    "\n",
    "Order_Quantity_Subcat = df_bikesales[['Sub_Category','Order_Quantity']]\\\n",
    "                .groupby('Sub_Category')\\\n",
    "                .sum()\\\n",
    "                .sort_values('Order_Quantity', ascending=True)\n",
    "    \n",
    "Order_Quantity_Subcat.index.name = 'Sub Product Category'\n",
    "\n",
    "Order_Quantity_Subcat.plot(kind='barh', figsize=(14,7))\n",
    "plt.xlabel('Order Quantity')\n",
    "plt.title('Order Quantity based on Sub Product Category');\n"
   ]
  },
  {
   "cell_type": "markdown",
   "id": "c751c9c6",
   "metadata": {},
   "source": [
    "Observation: Tires and Tubes are the sub-product ordered the most"
   ]
  },
  {
   "cell_type": "code",
   "execution_count": 35,
   "id": "48c9911a",
   "metadata": {},
   "outputs": [
    {
     "data": {
      "image/png": "[encoded data removed]",
      "text/plain": [
       "<Figure size 432x288 with 1 Axes>"
      ]
     },
     "metadata": {
      "needs_background": "light"
     },
     "output_type": "display_data"
    }
   ],
   "source": [
    "# Revenue based on Product Category\n",
    "\n",
    "Grouped_Product = df_bikesales.groupby('Product_Category').sum()['Revenue'].sort_values(ascending=False)\n",
    "\n",
    "Grouped_Product.plot(kind='bar', rot=0, title='Revenue by Product Category')\n",
    "for i in range(len(Grouped_Product)):\n",
    "    plt.text(i, Grouped_Product[i], Grouped_Product[i], ha='center', va = 'bottom')\n",
    "plt.show()"
   ]
  },
  {
   "cell_type": "markdown",
   "id": "b34ee37c",
   "metadata": {},
   "source": [
    "Observation: Bikes are the product that generates the highest Revenue"
   ]
  },
  {
   "cell_type": "code",
   "execution_count": 36,
   "id": "d6cdbcec",
   "metadata": {},
   "outputs": [
    {
     "data": {
      "image/png": "[encoded data removed]",
      "text/plain": [
       "<Figure size 864x432 with 1 Axes>"
      ]
     },
     "metadata": {
      "needs_background": "light"
     },
     "output_type": "display_data"
    }
   ],
   "source": [
    "df_bikesales.groupby(['Country', 'Product_Category'])['Revenue'].sum()\n",
    "sns.countplot(data = df_bikesales, x ='Country', hue ='Product_Category', palette = ('winter'))\n",
    "plt.gcf().set_size_inches(12,6)"
   ]
  },
  {
   "cell_type": "markdown",
   "id": "7e5fe69b",
   "metadata": {},
   "source": [
    "Observation: Accessories generates the most Revenue with United State being the highest country by Revenue."
   ]
  },
  {
   "cell_type": "code",
   "execution_count": 37,
   "id": "afe6f466",
   "metadata": {},
   "outputs": [
    {
     "data": {
      "image/png": "[encoded data removed]",
      "text/plain": [
       "<Figure size 792x432 with 1 Axes>"
      ]
     },
     "metadata": {
      "needs_background": "light"
     },
     "output_type": "display_data"
    }
   ],
   "source": [
    "sns.countplot(data = df_bikesales, x ='Country', hue ='Customer_Gender',palette = ('winter'))\n",
    "plt.xticks(rotation=60)\n",
    "sns.set_style(\"whitegrid\")\n",
    "plt.legend(['Male', 'Female'])\n",
    "plt.gcf().set_size_inches(11,6)\n",
    "plt.show()"
   ]
  },
  {
   "cell_type": "markdown",
   "id": "7879d7b0",
   "metadata": {},
   "source": [
    "Observation: The United State has the highest number of customers-both Male and Female"
   ]
  },
  {
   "cell_type": "code",
   "execution_count": 38,
   "id": "31ec60b1",
   "metadata": {},
   "outputs": [
    {
     "data": {
      "image/png": "[encoded data removed]",
      "text/plain": [
       "<Figure size 1152x864 with 6 Axes>"
      ]
     },
     "metadata": {},
     "output_type": "display_data"
    }
   ],
   "source": [
    "# Displaying the distribution of order quantity data using box plots\n",
    "\n",
    "# Features to plot\n",
    "columns = ['Country', 'Year', 'Month', 'Customer_Gender', 'Age_Group', 'Product_Category']\n",
    "\n",
    "# Creating subplot axes\n",
    "fig, axes = plt.subplots(3, 2, figsize=(16,12), sharey=False)\n",
    "\n",
    "# Iterating through axes and columns\n",
    "for name, ax in zip(columns, axes.flatten()):\n",
    "    sns.boxplot(x=name, y= \"Order_Quantity\", data=df_bikesales, ax=ax)\n",
    "    ax.tick_params(axis='x', labelsize=8)\n",
    "    plt.subplots_adjust(hspace=0.3);    \n"
   ]
  },
  {
   "cell_type": "markdown",
   "id": "fe170715",
   "metadata": {},
   "source": [
    "Box plot analysis between \"Order Quantity\" and 'Country', 'Year', 'Month', 'Customer_Gender', 'Age_Group', 'Product_Category'"
   ]
  },
  {
   "cell_type": "code",
   "execution_count": 39,
   "id": "8d134203",
   "metadata": {},
   "outputs": [
    {
     "data": {
      "image/png": "[encoded data removed]",
      "text/plain": [
       "<Figure size 1008x288 with 2 Axes>"
      ]
     },
     "metadata": {},
     "output_type": "display_data"
    }
   ],
   "source": [
    "# Plot of customer Age and Order Quantity distributions\n",
    "\n",
    "# Features to plot\n",
    "\n",
    "columns = ['Customer_Age', 'Order_Quantity']\n",
    "\n",
    "# Creating subplot axes\n",
    "fig, axes = plt.subplots(1, 2, figsize=(14,4), sharey=False)\n",
    "\n",
    "# Iterating through axes and columns\n",
    "for name, ax in zip(columns, axes.flatten()):\n",
    "    sns.histplot(x=name, kde=True, data=df_bikesales, ax=ax)\n",
    "    ax.tick_params(axis='x', labelsize=8)\n",
    "    #ax.yaxis.set_major_formatter(mpl.ticker.StrMethodFormatter('{x:,.0f}'))\n",
    "    plt.subplots_adjust(hspace=0.3);"
   ]
  },
  {
   "cell_type": "markdown",
   "id": "5632defa",
   "metadata": {},
   "source": [
    "Observation: the distribution shows that most of the customers are between the ages of 30 and 40"
   ]
  },
  {
   "cell_type": "markdown",
   "id": "d3d09400",
   "metadata": {},
   "source": [
    "# Feature Selection"
   ]
  },
  {
   "cell_type": "code",
   "execution_count": 40,
   "id": "96d6a479",
   "metadata": {},
   "outputs": [
    {
     "data": {
      "text/html": [
       "<div>\n",
       "<style scoped>\n",
       "    .dataframe tbody tr th:only-of-type {\n",
       "        vertical-align: middle;\n",
       "    }\n",
       "\n",
       "    .dataframe tbody tr th {\n",
       "        vertical-align: top;\n",
       "    }\n",
       "\n",
       "    .dataframe thead th {\n",
       "        text-align: right;\n",
       "    }\n",
       "</style>\n",
       "<table border=\"1\" class=\"dataframe\">\n",
       "  <thead>\n",
       "    <tr style=\"text-align: right;\">\n",
       "      <th></th>\n",
       "      <th>mutual_info_score</th>\n",
       "    </tr>\n",
       "  </thead>\n",
       "  <tbody>\n",
       "    <tr>\n",
       "      <th>Product</th>\n",
       "      <td>2.401725</td>\n",
       "    </tr>\n",
       "    <tr>\n",
       "      <th>Sub_Category</th>\n",
       "      <td>1.622800</td>\n",
       "    </tr>\n",
       "    <tr>\n",
       "      <th>Product_Category</th>\n",
       "      <td>0.674012</td>\n",
       "    </tr>\n",
       "    <tr>\n",
       "      <th>State</th>\n",
       "      <td>0.093816</td>\n",
       "    </tr>\n",
       "    <tr>\n",
       "      <th>Country</th>\n",
       "      <td>0.035343</td>\n",
       "    </tr>\n",
       "    <tr>\n",
       "      <th>Month</th>\n",
       "      <td>0.027461</td>\n",
       "    </tr>\n",
       "    <tr>\n",
       "      <th>Customer_Gender</th>\n",
       "      <td>0.003264</td>\n",
       "    </tr>\n",
       "  </tbody>\n",
       "</table>\n",
       "</div>"
      ],
      "text/plain": [
       "                  mutual_info_score\n",
       "Product                    2.401725\n",
       "Sub_Category               1.622800\n",
       "Product_Category           0.674012\n",
       "State                      0.093816\n",
       "Country                    0.035343\n",
       "Month                      0.027461\n",
       "Customer_Gender            0.003264"
      ]
     },
     "execution_count": 40,
     "metadata": {},
     "output_type": "execute_result"
    }
   ],
   "source": [
    "from sklearn.metrics import mutual_info_score\n",
    "def cat_mut_inf(series):\n",
    "    return mutual_info_score(series, df_bikesales['Revenue']) \n",
    "\n",
    "df_cat = df_bikesales[categorical].apply(cat_mut_inf) \n",
    "df_cat = df_cat.sort_values(ascending=False).to_frame(name='mutual_info_score') \n",
    "df_cat"
   ]
  },
  {
   "cell_type": "markdown",
   "id": "9a495d36",
   "metadata": {},
   "source": [
    "Observation: Mutual Info Score is the degree of independence between categorical and a target variable, the higher the values of mutual info, the higher the degree of independence\n",
    "\n",
    "High mutual info score means better prediction on target variable\n",
    "\n",
    "Product has the most effect on Revenue"
   ]
  },
  {
   "cell_type": "code",
   "execution_count": 41,
   "id": "cf55427b",
   "metadata": {},
   "outputs": [
    {
     "data": {
      "image/png": "[encoded data removed]",
      "text/plain": [
       "<Figure size 1008x576 with 2 Axes>"
      ]
     },
     "metadata": {},
     "output_type": "display_data"
    }
   ],
   "source": [
    "# Correlation Matrix of the dataset indicating the financial fields are well correlated\n",
    "\n",
    "correlation_matrix = df_bikesales.corr()\n",
    "\n",
    "plt.figure(figsize = (14,8))\n",
    "sns.heatmap(correlation_matrix,annot=True)\n",
    "plt.title('Heat Map Correlation of the Bikesales features', fontsize=14)\n",
    "plt.show()"
   ]
  },
  {
   "cell_type": "markdown",
   "id": "cb4f75c6",
   "metadata": {},
   "source": [
    "Observation: Multicollinearity of the independent variables especially the financial fields\n",
    "\n",
    "Variable Inflation Factor used to determine multicollinearity and the strenght of the correlation"
   ]
  },
  {
   "cell_type": "code",
   "execution_count": 43,
   "id": "ad02dcf4",
   "metadata": {},
   "outputs": [],
   "source": [
    "from patsy import dmatrices\n",
    "from statsmodels.stats.outliers_influence import variance_inflation_factor"
   ]
  },
  {
   "cell_type": "code",
   "execution_count": 44,
   "id": "2c1a1fca",
   "metadata": {},
   "outputs": [
    {
     "name": "stdout",
     "output_type": "stream",
     "text": [
      "         variable           VIF\n",
      "0       Intercept  2.679128e+06\n",
      "1             Day  1.000297e+00\n",
      "2            Year  1.058583e+00\n",
      "3    Customer_Age  1.004071e+00\n",
      "4  Order_Quantity  1.476668e+00\n",
      "5       Unit_Cost  3.009527e+02\n",
      "6      Unit_Price  2.944466e+02\n",
      "7          Profit  6.245326e+00\n",
      "8            Cost  9.456065e+00\n"
     ]
    }
   ],
   "source": [
    "#find design matrix for regression model using 'Revenue' as response variable(Output) \n",
    "y, X = dmatrices('Revenue ~ Day+Year+Customer_Age+Order_Quantity+Unit_Cost+Unit_Price+Profit+Cost', data=df_bikesales, return_type='dataframe')\n",
    "\n",
    "#create DataFrame to hold VIF values\n",
    "vif_df = pd.DataFrame()\n",
    "vif_df['variable'] = X.columns \n",
    "\n",
    "#calculate VIF for each predictor variable \n",
    "vif_df['VIF'] = [variance_inflation_factor(X.values, i) for i in range(X.shape[1])]\n",
    "\n",
    "#view VIF for each predictor variable \n",
    "print(vif_df)\n"
   ]
  },
  {
   "cell_type": "markdown",
   "id": "07c1e104",
   "metadata": {},
   "source": [
    "Observation: VIF values greater than 5 indicates very strong correlation. This information helps in my feature selection."
   ]
  },
  {
   "cell_type": "code",
   "execution_count": 45,
   "id": "8c9ecdee",
   "metadata": {},
   "outputs": [
    {
     "data": {
      "text/html": [
       "<div>\n",
       "<style scoped>\n",
       "    .dataframe tbody tr th:only-of-type {\n",
       "        vertical-align: middle;\n",
       "    }\n",
       "\n",
       "    .dataframe tbody tr th {\n",
       "        vertical-align: top;\n",
       "    }\n",
       "\n",
       "    .dataframe thead th {\n",
       "        text-align: right;\n",
       "    }\n",
       "</style>\n",
       "<table border=\"1\" class=\"dataframe\">\n",
       "  <thead>\n",
       "    <tr style=\"text-align: right;\">\n",
       "      <th></th>\n",
       "      <th>Month</th>\n",
       "      <th>Year</th>\n",
       "      <th>Customer_Age</th>\n",
       "      <th>Age_Group</th>\n",
       "      <th>Customer_Gender</th>\n",
       "      <th>Country</th>\n",
       "      <th>Product_Category</th>\n",
       "      <th>Sub_Category</th>\n",
       "      <th>Product</th>\n",
       "      <th>Order_Quantity</th>\n",
       "      <th>Unit_Cost</th>\n",
       "      <th>Unit_Price</th>\n",
       "      <th>Profit</th>\n",
       "      <th>Cost</th>\n",
       "      <th>Revenue</th>\n",
       "    </tr>\n",
       "  </thead>\n",
       "  <tbody>\n",
       "    <tr>\n",
       "      <th>0</th>\n",
       "      <td>November</td>\n",
       "      <td>2013</td>\n",
       "      <td>19</td>\n",
       "      <td>Youth (&lt;25)</td>\n",
       "      <td>M</td>\n",
       "      <td>Canada</td>\n",
       "      <td>Accessories</td>\n",
       "      <td>Bike Racks</td>\n",
       "      <td>Hitch Rack - 4-Bike</td>\n",
       "      <td>8</td>\n",
       "      <td>45</td>\n",
       "      <td>120</td>\n",
       "      <td>590</td>\n",
       "      <td>360</td>\n",
       "      <td>600</td>\n",
       "    </tr>\n",
       "    <tr>\n",
       "      <th>1</th>\n",
       "      <td>November</td>\n",
       "      <td>2015</td>\n",
       "      <td>19</td>\n",
       "      <td>Youth (&lt;25)</td>\n",
       "      <td>M</td>\n",
       "      <td>Canada</td>\n",
       "      <td>Accessories</td>\n",
       "      <td>Bike Racks</td>\n",
       "      <td>Hitch Rack - 4-Bike</td>\n",
       "      <td>8</td>\n",
       "      <td>45</td>\n",
       "      <td>120</td>\n",
       "      <td>590</td>\n",
       "      <td>360</td>\n",
       "      <td>600</td>\n",
       "    </tr>\n",
       "    <tr>\n",
       "      <th>2</th>\n",
       "      <td>March</td>\n",
       "      <td>2014</td>\n",
       "      <td>49</td>\n",
       "      <td>Adults (35-64)</td>\n",
       "      <td>M</td>\n",
       "      <td>Australia</td>\n",
       "      <td>Accessories</td>\n",
       "      <td>Bike Racks</td>\n",
       "      <td>Hitch Rack - 4-Bike</td>\n",
       "      <td>23</td>\n",
       "      <td>45</td>\n",
       "      <td>120</td>\n",
       "      <td>1366</td>\n",
       "      <td>1035</td>\n",
       "      <td>1725</td>\n",
       "    </tr>\n",
       "    <tr>\n",
       "      <th>3</th>\n",
       "      <td>March</td>\n",
       "      <td>2016</td>\n",
       "      <td>49</td>\n",
       "      <td>Adults (35-64)</td>\n",
       "      <td>M</td>\n",
       "      <td>Australia</td>\n",
       "      <td>Accessories</td>\n",
       "      <td>Bike Racks</td>\n",
       "      <td>Hitch Rack - 4-Bike</td>\n",
       "      <td>20</td>\n",
       "      <td>45</td>\n",
       "      <td>120</td>\n",
       "      <td>1188</td>\n",
       "      <td>900</td>\n",
       "      <td>1500</td>\n",
       "    </tr>\n",
       "    <tr>\n",
       "      <th>4</th>\n",
       "      <td>May</td>\n",
       "      <td>2014</td>\n",
       "      <td>47</td>\n",
       "      <td>Adults (35-64)</td>\n",
       "      <td>F</td>\n",
       "      <td>Australia</td>\n",
       "      <td>Accessories</td>\n",
       "      <td>Bike Racks</td>\n",
       "      <td>Hitch Rack - 4-Bike</td>\n",
       "      <td>4</td>\n",
       "      <td>45</td>\n",
       "      <td>120</td>\n",
       "      <td>238</td>\n",
       "      <td>180</td>\n",
       "      <td>300</td>\n",
       "    </tr>\n",
       "  </tbody>\n",
       "</table>\n",
       "</div>"
      ],
      "text/plain": [
       "      Month  Year  Customer_Age       Age_Group Customer_Gender    Country  \\\n",
       "0  November  2013            19     Youth (<25)               M     Canada   \n",
       "1  November  2015            19     Youth (<25)               M     Canada   \n",
       "2     March  2014            49  Adults (35-64)               M  Australia   \n",
       "3     March  2016            49  Adults (35-64)               M  Australia   \n",
       "4       May  2014            47  Adults (35-64)               F  Australia   \n",
       "\n",
       "  Product_Category Sub_Category              Product  Order_Quantity  \\\n",
       "0      Accessories   Bike Racks  Hitch Rack - 4-Bike               8   \n",
       "1      Accessories   Bike Racks  Hitch Rack - 4-Bike               8   \n",
       "2      Accessories   Bike Racks  Hitch Rack - 4-Bike              23   \n",
       "3      Accessories   Bike Racks  Hitch Rack - 4-Bike              20   \n",
       "4      Accessories   Bike Racks  Hitch Rack - 4-Bike               4   \n",
       "\n",
       "   Unit_Cost  Unit_Price  Profit  Cost  Revenue  \n",
       "0         45         120     590   360      600  \n",
       "1         45         120     590   360      600  \n",
       "2         45         120    1366  1035     1725  \n",
       "3         45         120    1188   900     1500  \n",
       "4         45         120     238   180      300  "
      ]
     },
     "execution_count": 45,
     "metadata": {},
     "output_type": "execute_result"
    }
   ],
   "source": [
    "## Removal of the \"Date\", \"Day\" and \"State\" Columns as they are not necessary for my Machine Learning predictions.\n",
    "\n",
    "df_bikesales.drop('Date', axis=1, inplace=True)\n",
    "df_bikesales.drop('Day',axis=1, inplace=True)\n",
    "df_bikesales.drop(\"State\" , axis=1, inplace=True)\n",
    "df_bikesales.head(5)"
   ]
  },
  {
   "cell_type": "code",
   "execution_count": 46,
   "id": "09a7f1f5",
   "metadata": {},
   "outputs": [
    {
     "data": {
      "text/html": [
       "<div>\n",
       "<style scoped>\n",
       "    .dataframe tbody tr th:only-of-type {\n",
       "        vertical-align: middle;\n",
       "    }\n",
       "\n",
       "    .dataframe tbody tr th {\n",
       "        vertical-align: top;\n",
       "    }\n",
       "\n",
       "    .dataframe thead th {\n",
       "        text-align: right;\n",
       "    }\n",
       "</style>\n",
       "<table border=\"1\" class=\"dataframe\">\n",
       "  <thead>\n",
       "    <tr style=\"text-align: right;\">\n",
       "      <th></th>\n",
       "      <th>Month</th>\n",
       "      <th>Year</th>\n",
       "      <th>Customer_Age</th>\n",
       "      <th>Age_Group</th>\n",
       "      <th>Customer_Gender</th>\n",
       "      <th>Country</th>\n",
       "      <th>Product_Category</th>\n",
       "      <th>Sub_Category</th>\n",
       "      <th>Product</th>\n",
       "      <th>Order_Quantity</th>\n",
       "      <th>Unit_Price</th>\n",
       "      <th>Revenue</th>\n",
       "    </tr>\n",
       "  </thead>\n",
       "  <tbody>\n",
       "    <tr>\n",
       "      <th>0</th>\n",
       "      <td>November</td>\n",
       "      <td>2013</td>\n",
       "      <td>19</td>\n",
       "      <td>Youth (&lt;25)</td>\n",
       "      <td>M</td>\n",
       "      <td>Canada</td>\n",
       "      <td>Accessories</td>\n",
       "      <td>Bike Racks</td>\n",
       "      <td>Hitch Rack - 4-Bike</td>\n",
       "      <td>8</td>\n",
       "      <td>120</td>\n",
       "      <td>600</td>\n",
       "    </tr>\n",
       "    <tr>\n",
       "      <th>1</th>\n",
       "      <td>November</td>\n",
       "      <td>2015</td>\n",
       "      <td>19</td>\n",
       "      <td>Youth (&lt;25)</td>\n",
       "      <td>M</td>\n",
       "      <td>Canada</td>\n",
       "      <td>Accessories</td>\n",
       "      <td>Bike Racks</td>\n",
       "      <td>Hitch Rack - 4-Bike</td>\n",
       "      <td>8</td>\n",
       "      <td>120</td>\n",
       "      <td>600</td>\n",
       "    </tr>\n",
       "    <tr>\n",
       "      <th>2</th>\n",
       "      <td>March</td>\n",
       "      <td>2014</td>\n",
       "      <td>49</td>\n",
       "      <td>Adults (35-64)</td>\n",
       "      <td>M</td>\n",
       "      <td>Australia</td>\n",
       "      <td>Accessories</td>\n",
       "      <td>Bike Racks</td>\n",
       "      <td>Hitch Rack - 4-Bike</td>\n",
       "      <td>23</td>\n",
       "      <td>120</td>\n",
       "      <td>1725</td>\n",
       "    </tr>\n",
       "    <tr>\n",
       "      <th>3</th>\n",
       "      <td>March</td>\n",
       "      <td>2016</td>\n",
       "      <td>49</td>\n",
       "      <td>Adults (35-64)</td>\n",
       "      <td>M</td>\n",
       "      <td>Australia</td>\n",
       "      <td>Accessories</td>\n",
       "      <td>Bike Racks</td>\n",
       "      <td>Hitch Rack - 4-Bike</td>\n",
       "      <td>20</td>\n",
       "      <td>120</td>\n",
       "      <td>1500</td>\n",
       "    </tr>\n",
       "    <tr>\n",
       "      <th>4</th>\n",
       "      <td>May</td>\n",
       "      <td>2014</td>\n",
       "      <td>47</td>\n",
       "      <td>Adults (35-64)</td>\n",
       "      <td>F</td>\n",
       "      <td>Australia</td>\n",
       "      <td>Accessories</td>\n",
       "      <td>Bike Racks</td>\n",
       "      <td>Hitch Rack - 4-Bike</td>\n",
       "      <td>4</td>\n",
       "      <td>120</td>\n",
       "      <td>300</td>\n",
       "    </tr>\n",
       "  </tbody>\n",
       "</table>\n",
       "</div>"
      ],
      "text/plain": [
       "      Month  Year  Customer_Age       Age_Group Customer_Gender    Country  \\\n",
       "0  November  2013            19     Youth (<25)               M     Canada   \n",
       "1  November  2015            19     Youth (<25)               M     Canada   \n",
       "2     March  2014            49  Adults (35-64)               M  Australia   \n",
       "3     March  2016            49  Adults (35-64)               M  Australia   \n",
       "4       May  2014            47  Adults (35-64)               F  Australia   \n",
       "\n",
       "  Product_Category Sub_Category              Product  Order_Quantity  \\\n",
       "0      Accessories   Bike Racks  Hitch Rack - 4-Bike               8   \n",
       "1      Accessories   Bike Racks  Hitch Rack - 4-Bike               8   \n",
       "2      Accessories   Bike Racks  Hitch Rack - 4-Bike              23   \n",
       "3      Accessories   Bike Racks  Hitch Rack - 4-Bike              20   \n",
       "4      Accessories   Bike Racks  Hitch Rack - 4-Bike               4   \n",
       "\n",
       "   Unit_Price  Revenue  \n",
       "0         120      600  \n",
       "1         120      600  \n",
       "2         120     1725  \n",
       "3         120     1500  \n",
       "4         120      300  "
      ]
     },
     "execution_count": 46,
     "metadata": {},
     "output_type": "execute_result"
    }
   ],
   "source": [
    "## Removal of the \"Unit cost\", \"Profit\" and \"Cost\" Columns from my dataset,they are dependable on one another and highly correlated. \n",
    "\n",
    "df_bikesales.drop('Unit_Cost', axis=1, inplace=True)\n",
    "df_bikesales.drop(\"Profit\" , axis=1, inplace=True)\n",
    "df_bikesales.drop(\"Cost\" , axis=1, inplace=True)\n",
    "df_bikesales.head(5)"
   ]
  },
  {
   "cell_type": "code",
   "execution_count": 47,
   "id": "746d349b",
   "metadata": {},
   "outputs": [
    {
     "data": {
      "image/png": "[encoded data removed]",
      "text/plain": [
       "<Figure size 1008x576 with 2 Axes>"
      ]
     },
     "metadata": {},
     "output_type": "display_data"
    }
   ],
   "source": [
    "# Heat Map Correlation Matrix of the relevant features for Machine Learning Predictions.\n",
    "\n",
    "correlation = df_bikesales.corr()\n",
    "\n",
    "plt.figure(figsize = (14,8))\n",
    "sns.heatmap(correlation,annot=True)\n",
    "plt.title('Heat Map Correlation of the Bikesales features', fontsize=14)\n",
    "plt.show()"
   ]
  },
  {
   "cell_type": "code",
   "execution_count": 48,
   "id": "c6e3a30e",
   "metadata": {},
   "outputs": [
    {
     "data": {
      "text/html": [
       "<div>\n",
       "<style scoped>\n",
       "    .dataframe tbody tr th:only-of-type {\n",
       "        vertical-align: middle;\n",
       "    }\n",
       "\n",
       "    .dataframe tbody tr th {\n",
       "        vertical-align: top;\n",
       "    }\n",
       "\n",
       "    .dataframe thead th {\n",
       "        text-align: right;\n",
       "    }\n",
       "</style>\n",
       "<table border=\"1\" class=\"dataframe\">\n",
       "  <thead>\n",
       "    <tr style=\"text-align: right;\">\n",
       "      <th></th>\n",
       "      <th>Year</th>\n",
       "      <th>Customer_Age</th>\n",
       "      <th>Order_Quantity</th>\n",
       "      <th>Unit_Price</th>\n",
       "      <th>Revenue</th>\n",
       "    </tr>\n",
       "  </thead>\n",
       "  <tbody>\n",
       "    <tr>\n",
       "      <th>0</th>\n",
       "      <td>2013</td>\n",
       "      <td>19</td>\n",
       "      <td>8</td>\n",
       "      <td>120</td>\n",
       "      <td>600</td>\n",
       "    </tr>\n",
       "    <tr>\n",
       "      <th>1</th>\n",
       "      <td>2015</td>\n",
       "      <td>19</td>\n",
       "      <td>8</td>\n",
       "      <td>120</td>\n",
       "      <td>600</td>\n",
       "    </tr>\n",
       "    <tr>\n",
       "      <th>2</th>\n",
       "      <td>2014</td>\n",
       "      <td>49</td>\n",
       "      <td>23</td>\n",
       "      <td>120</td>\n",
       "      <td>1725</td>\n",
       "    </tr>\n",
       "    <tr>\n",
       "      <th>3</th>\n",
       "      <td>2016</td>\n",
       "      <td>49</td>\n",
       "      <td>20</td>\n",
       "      <td>120</td>\n",
       "      <td>1500</td>\n",
       "    </tr>\n",
       "    <tr>\n",
       "      <th>4</th>\n",
       "      <td>2014</td>\n",
       "      <td>47</td>\n",
       "      <td>4</td>\n",
       "      <td>120</td>\n",
       "      <td>300</td>\n",
       "    </tr>\n",
       "    <tr>\n",
       "      <th>...</th>\n",
       "      <td>...</td>\n",
       "      <td>...</td>\n",
       "      <td>...</td>\n",
       "      <td>...</td>\n",
       "      <td>...</td>\n",
       "    </tr>\n",
       "    <tr>\n",
       "      <th>113031</th>\n",
       "      <td>2016</td>\n",
       "      <td>41</td>\n",
       "      <td>3</td>\n",
       "      <td>64</td>\n",
       "      <td>120</td>\n",
       "    </tr>\n",
       "    <tr>\n",
       "      <th>113032</th>\n",
       "      <td>2014</td>\n",
       "      <td>18</td>\n",
       "      <td>22</td>\n",
       "      <td>64</td>\n",
       "      <td>880</td>\n",
       "    </tr>\n",
       "    <tr>\n",
       "      <th>113033</th>\n",
       "      <td>2016</td>\n",
       "      <td>18</td>\n",
       "      <td>22</td>\n",
       "      <td>64</td>\n",
       "      <td>880</td>\n",
       "    </tr>\n",
       "    <tr>\n",
       "      <th>113034</th>\n",
       "      <td>2014</td>\n",
       "      <td>37</td>\n",
       "      <td>24</td>\n",
       "      <td>64</td>\n",
       "      <td>960</td>\n",
       "    </tr>\n",
       "    <tr>\n",
       "      <th>113035</th>\n",
       "      <td>2016</td>\n",
       "      <td>37</td>\n",
       "      <td>23</td>\n",
       "      <td>64</td>\n",
       "      <td>920</td>\n",
       "    </tr>\n",
       "  </tbody>\n",
       "</table>\n",
       "<p>111587 rows × 5 columns</p>\n",
       "</div>"
      ],
      "text/plain": [
       "        Year  Customer_Age  Order_Quantity  Unit_Price  Revenue\n",
       "0       2013            19               8         120      600\n",
       "1       2015            19               8         120      600\n",
       "2       2014            49              23         120     1725\n",
       "3       2016            49              20         120     1500\n",
       "4       2014            47               4         120      300\n",
       "...      ...           ...             ...         ...      ...\n",
       "113031  2016            41               3          64      120\n",
       "113032  2014            18              22          64      880\n",
       "113033  2016            18              22          64      880\n",
       "113034  2014            37              24          64      960\n",
       "113035  2016            37              23          64      920\n",
       "\n",
       "[111587 rows x 5 columns]"
      ]
     },
     "execution_count": 48,
     "metadata": {},
     "output_type": "execute_result"
    }
   ],
   "source": [
    "Bikes_product = df_bikesales.select_dtypes(exclude=['object']).copy()\n",
    "Bikes_product"
   ]
  },
  {
   "cell_type": "code",
   "execution_count": 49,
   "id": "586c63fc",
   "metadata": {},
   "outputs": [
    {
     "data": {
      "text/html": [
       "<div>\n",
       "<style scoped>\n",
       "    .dataframe tbody tr th:only-of-type {\n",
       "        vertical-align: middle;\n",
       "    }\n",
       "\n",
       "    .dataframe tbody tr th {\n",
       "        vertical-align: top;\n",
       "    }\n",
       "\n",
       "    .dataframe thead th {\n",
       "        text-align: right;\n",
       "    }\n",
       "</style>\n",
       "<table border=\"1\" class=\"dataframe\">\n",
       "  <thead>\n",
       "    <tr style=\"text-align: right;\">\n",
       "      <th></th>\n",
       "      <th>Year</th>\n",
       "      <th>Customer_Age</th>\n",
       "      <th>Order_Quantity</th>\n",
       "      <th>Unit_Price</th>\n",
       "      <th>Revenue</th>\n",
       "      <th>Customer_Gender</th>\n",
       "      <th>Country</th>\n",
       "      <th>Product_Category</th>\n",
       "    </tr>\n",
       "  </thead>\n",
       "  <tbody>\n",
       "    <tr>\n",
       "      <th>0</th>\n",
       "      <td>2013</td>\n",
       "      <td>19</td>\n",
       "      <td>8</td>\n",
       "      <td>120</td>\n",
       "      <td>600</td>\n",
       "      <td>M</td>\n",
       "      <td>Canada</td>\n",
       "      <td>Accessories</td>\n",
       "    </tr>\n",
       "    <tr>\n",
       "      <th>1</th>\n",
       "      <td>2015</td>\n",
       "      <td>19</td>\n",
       "      <td>8</td>\n",
       "      <td>120</td>\n",
       "      <td>600</td>\n",
       "      <td>M</td>\n",
       "      <td>Canada</td>\n",
       "      <td>Accessories</td>\n",
       "    </tr>\n",
       "    <tr>\n",
       "      <th>2</th>\n",
       "      <td>2014</td>\n",
       "      <td>49</td>\n",
       "      <td>23</td>\n",
       "      <td>120</td>\n",
       "      <td>1725</td>\n",
       "      <td>M</td>\n",
       "      <td>Australia</td>\n",
       "      <td>Accessories</td>\n",
       "    </tr>\n",
       "    <tr>\n",
       "      <th>3</th>\n",
       "      <td>2016</td>\n",
       "      <td>49</td>\n",
       "      <td>20</td>\n",
       "      <td>120</td>\n",
       "      <td>1500</td>\n",
       "      <td>M</td>\n",
       "      <td>Australia</td>\n",
       "      <td>Accessories</td>\n",
       "    </tr>\n",
       "    <tr>\n",
       "      <th>4</th>\n",
       "      <td>2014</td>\n",
       "      <td>47</td>\n",
       "      <td>4</td>\n",
       "      <td>120</td>\n",
       "      <td>300</td>\n",
       "      <td>F</td>\n",
       "      <td>Australia</td>\n",
       "      <td>Accessories</td>\n",
       "    </tr>\n",
       "    <tr>\n",
       "      <th>...</th>\n",
       "      <td>...</td>\n",
       "      <td>...</td>\n",
       "      <td>...</td>\n",
       "      <td>...</td>\n",
       "      <td>...</td>\n",
       "      <td>...</td>\n",
       "      <td>...</td>\n",
       "      <td>...</td>\n",
       "    </tr>\n",
       "    <tr>\n",
       "      <th>113031</th>\n",
       "      <td>2016</td>\n",
       "      <td>41</td>\n",
       "      <td>3</td>\n",
       "      <td>64</td>\n",
       "      <td>120</td>\n",
       "      <td>M</td>\n",
       "      <td>United Kingdom</td>\n",
       "      <td>Clothing</td>\n",
       "    </tr>\n",
       "    <tr>\n",
       "      <th>113032</th>\n",
       "      <td>2014</td>\n",
       "      <td>18</td>\n",
       "      <td>22</td>\n",
       "      <td>64</td>\n",
       "      <td>880</td>\n",
       "      <td>M</td>\n",
       "      <td>Australia</td>\n",
       "      <td>Clothing</td>\n",
       "    </tr>\n",
       "    <tr>\n",
       "      <th>113033</th>\n",
       "      <td>2016</td>\n",
       "      <td>18</td>\n",
       "      <td>22</td>\n",
       "      <td>64</td>\n",
       "      <td>880</td>\n",
       "      <td>M</td>\n",
       "      <td>Australia</td>\n",
       "      <td>Clothing</td>\n",
       "    </tr>\n",
       "    <tr>\n",
       "      <th>113034</th>\n",
       "      <td>2014</td>\n",
       "      <td>37</td>\n",
       "      <td>24</td>\n",
       "      <td>64</td>\n",
       "      <td>960</td>\n",
       "      <td>F</td>\n",
       "      <td>France</td>\n",
       "      <td>Clothing</td>\n",
       "    </tr>\n",
       "    <tr>\n",
       "      <th>113035</th>\n",
       "      <td>2016</td>\n",
       "      <td>37</td>\n",
       "      <td>23</td>\n",
       "      <td>64</td>\n",
       "      <td>920</td>\n",
       "      <td>F</td>\n",
       "      <td>France</td>\n",
       "      <td>Clothing</td>\n",
       "    </tr>\n",
       "  </tbody>\n",
       "</table>\n",
       "<p>111587 rows × 8 columns</p>\n",
       "</div>"
      ],
      "text/plain": [
       "        Year  Customer_Age  Order_Quantity  Unit_Price  Revenue  \\\n",
       "0       2013            19               8         120      600   \n",
       "1       2015            19               8         120      600   \n",
       "2       2014            49              23         120     1725   \n",
       "3       2016            49              20         120     1500   \n",
       "4       2014            47               4         120      300   \n",
       "...      ...           ...             ...         ...      ...   \n",
       "113031  2016            41               3          64      120   \n",
       "113032  2014            18              22          64      880   \n",
       "113033  2016            18              22          64      880   \n",
       "113034  2014            37              24          64      960   \n",
       "113035  2016            37              23          64      920   \n",
       "\n",
       "       Customer_Gender         Country Product_Category  \n",
       "0                    M          Canada      Accessories  \n",
       "1                    M          Canada      Accessories  \n",
       "2                    M       Australia      Accessories  \n",
       "3                    M       Australia      Accessories  \n",
       "4                    F       Australia      Accessories  \n",
       "...                ...             ...              ...  \n",
       "113031               M  United Kingdom         Clothing  \n",
       "113032               M       Australia         Clothing  \n",
       "113033               M       Australia         Clothing  \n",
       "113034               F          France         Clothing  \n",
       "113035               F          France         Clothing  \n",
       "\n",
       "[111587 rows x 8 columns]"
      ]
     },
     "execution_count": 49,
     "metadata": {},
     "output_type": "execute_result"
    }
   ],
   "source": [
    "Bikes_product['Customer_Age'] = df_bikesales['Customer_Age']\n",
    "Bikes_product['Customer_Gender'] = df_bikesales['Customer_Gender']\n",
    "Bikes_product['Country'] = df_bikesales['Country']\n",
    "Bikes_product['Product_Category'] = df_bikesales['Product_Category']\n",
    "Bikes_product"
   ]
  },
  {
   "cell_type": "code",
   "execution_count": 50,
   "id": "c982fc52",
   "metadata": {},
   "outputs": [
    {
     "data": {
      "text/html": [
       "<div>\n",
       "<style scoped>\n",
       "    .dataframe tbody tr th:only-of-type {\n",
       "        vertical-align: middle;\n",
       "    }\n",
       "\n",
       "    .dataframe tbody tr th {\n",
       "        vertical-align: top;\n",
       "    }\n",
       "\n",
       "    .dataframe thead th {\n",
       "        text-align: right;\n",
       "    }\n",
       "</style>\n",
       "<table border=\"1\" class=\"dataframe\">\n",
       "  <thead>\n",
       "    <tr style=\"text-align: right;\">\n",
       "      <th></th>\n",
       "      <th>Year</th>\n",
       "      <th>Customer_Age</th>\n",
       "      <th>Order_Quantity</th>\n",
       "      <th>Unit_Price</th>\n",
       "      <th>Revenue</th>\n",
       "      <th>Customer_Gender_F</th>\n",
       "      <th>Customer_Gender_M</th>\n",
       "      <th>Country_Australia</th>\n",
       "      <th>Country_Canada</th>\n",
       "      <th>Country_France</th>\n",
       "      <th>Country_Germany</th>\n",
       "      <th>Country_United Kingdom</th>\n",
       "      <th>Country_United States</th>\n",
       "      <th>Product_Category_Accessories</th>\n",
       "      <th>Product_Category_Bikes</th>\n",
       "      <th>Product_Category_Clothing</th>\n",
       "    </tr>\n",
       "  </thead>\n",
       "  <tbody>\n",
       "    <tr>\n",
       "      <th>0</th>\n",
       "      <td>2013</td>\n",
       "      <td>19</td>\n",
       "      <td>8</td>\n",
       "      <td>120</td>\n",
       "      <td>600</td>\n",
       "      <td>0</td>\n",
       "      <td>1</td>\n",
       "      <td>0</td>\n",
       "      <td>1</td>\n",
       "      <td>0</td>\n",
       "      <td>0</td>\n",
       "      <td>0</td>\n",
       "      <td>0</td>\n",
       "      <td>1</td>\n",
       "      <td>0</td>\n",
       "      <td>0</td>\n",
       "    </tr>\n",
       "    <tr>\n",
       "      <th>1</th>\n",
       "      <td>2015</td>\n",
       "      <td>19</td>\n",
       "      <td>8</td>\n",
       "      <td>120</td>\n",
       "      <td>600</td>\n",
       "      <td>0</td>\n",
       "      <td>1</td>\n",
       "      <td>0</td>\n",
       "      <td>1</td>\n",
       "      <td>0</td>\n",
       "      <td>0</td>\n",
       "      <td>0</td>\n",
       "      <td>0</td>\n",
       "      <td>1</td>\n",
       "      <td>0</td>\n",
       "      <td>0</td>\n",
       "    </tr>\n",
       "    <tr>\n",
       "      <th>2</th>\n",
       "      <td>2014</td>\n",
       "      <td>49</td>\n",
       "      <td>23</td>\n",
       "      <td>120</td>\n",
       "      <td>1725</td>\n",
       "      <td>0</td>\n",
       "      <td>1</td>\n",
       "      <td>1</td>\n",
       "      <td>0</td>\n",
       "      <td>0</td>\n",
       "      <td>0</td>\n",
       "      <td>0</td>\n",
       "      <td>0</td>\n",
       "      <td>1</td>\n",
       "      <td>0</td>\n",
       "      <td>0</td>\n",
       "    </tr>\n",
       "    <tr>\n",
       "      <th>3</th>\n",
       "      <td>2016</td>\n",
       "      <td>49</td>\n",
       "      <td>20</td>\n",
       "      <td>120</td>\n",
       "      <td>1500</td>\n",
       "      <td>0</td>\n",
       "      <td>1</td>\n",
       "      <td>1</td>\n",
       "      <td>0</td>\n",
       "      <td>0</td>\n",
       "      <td>0</td>\n",
       "      <td>0</td>\n",
       "      <td>0</td>\n",
       "      <td>1</td>\n",
       "      <td>0</td>\n",
       "      <td>0</td>\n",
       "    </tr>\n",
       "    <tr>\n",
       "      <th>4</th>\n",
       "      <td>2014</td>\n",
       "      <td>47</td>\n",
       "      <td>4</td>\n",
       "      <td>120</td>\n",
       "      <td>300</td>\n",
       "      <td>1</td>\n",
       "      <td>0</td>\n",
       "      <td>1</td>\n",
       "      <td>0</td>\n",
       "      <td>0</td>\n",
       "      <td>0</td>\n",
       "      <td>0</td>\n",
       "      <td>0</td>\n",
       "      <td>1</td>\n",
       "      <td>0</td>\n",
       "      <td>0</td>\n",
       "    </tr>\n",
       "    <tr>\n",
       "      <th>...</th>\n",
       "      <td>...</td>\n",
       "      <td>...</td>\n",
       "      <td>...</td>\n",
       "      <td>...</td>\n",
       "      <td>...</td>\n",
       "      <td>...</td>\n",
       "      <td>...</td>\n",
       "      <td>...</td>\n",
       "      <td>...</td>\n",
       "      <td>...</td>\n",
       "      <td>...</td>\n",
       "      <td>...</td>\n",
       "      <td>...</td>\n",
       "      <td>...</td>\n",
       "      <td>...</td>\n",
       "      <td>...</td>\n",
       "    </tr>\n",
       "    <tr>\n",
       "      <th>113031</th>\n",
       "      <td>2016</td>\n",
       "      <td>41</td>\n",
       "      <td>3</td>\n",
       "      <td>64</td>\n",
       "      <td>120</td>\n",
       "      <td>0</td>\n",
       "      <td>1</td>\n",
       "      <td>0</td>\n",
       "      <td>0</td>\n",
       "      <td>0</td>\n",
       "      <td>0</td>\n",
       "      <td>1</td>\n",
       "      <td>0</td>\n",
       "      <td>0</td>\n",
       "      <td>0</td>\n",
       "      <td>1</td>\n",
       "    </tr>\n",
       "    <tr>\n",
       "      <th>113032</th>\n",
       "      <td>2014</td>\n",
       "      <td>18</td>\n",
       "      <td>22</td>\n",
       "      <td>64</td>\n",
       "      <td>880</td>\n",
       "      <td>0</td>\n",
       "      <td>1</td>\n",
       "      <td>1</td>\n",
       "      <td>0</td>\n",
       "      <td>0</td>\n",
       "      <td>0</td>\n",
       "      <td>0</td>\n",
       "      <td>0</td>\n",
       "      <td>0</td>\n",
       "      <td>0</td>\n",
       "      <td>1</td>\n",
       "    </tr>\n",
       "    <tr>\n",
       "      <th>113033</th>\n",
       "      <td>2016</td>\n",
       "      <td>18</td>\n",
       "      <td>22</td>\n",
       "      <td>64</td>\n",
       "      <td>880</td>\n",
       "      <td>0</td>\n",
       "      <td>1</td>\n",
       "      <td>1</td>\n",
       "      <td>0</td>\n",
       "      <td>0</td>\n",
       "      <td>0</td>\n",
       "      <td>0</td>\n",
       "      <td>0</td>\n",
       "      <td>0</td>\n",
       "      <td>0</td>\n",
       "      <td>1</td>\n",
       "    </tr>\n",
       "    <tr>\n",
       "      <th>113034</th>\n",
       "      <td>2014</td>\n",
       "      <td>37</td>\n",
       "      <td>24</td>\n",
       "      <td>64</td>\n",
       "      <td>960</td>\n",
       "      <td>1</td>\n",
       "      <td>0</td>\n",
       "      <td>0</td>\n",
       "      <td>0</td>\n",
       "      <td>1</td>\n",
       "      <td>0</td>\n",
       "      <td>0</td>\n",
       "      <td>0</td>\n",
       "      <td>0</td>\n",
       "      <td>0</td>\n",
       "      <td>1</td>\n",
       "    </tr>\n",
       "    <tr>\n",
       "      <th>113035</th>\n",
       "      <td>2016</td>\n",
       "      <td>37</td>\n",
       "      <td>23</td>\n",
       "      <td>64</td>\n",
       "      <td>920</td>\n",
       "      <td>1</td>\n",
       "      <td>0</td>\n",
       "      <td>0</td>\n",
       "      <td>0</td>\n",
       "      <td>1</td>\n",
       "      <td>0</td>\n",
       "      <td>0</td>\n",
       "      <td>0</td>\n",
       "      <td>0</td>\n",
       "      <td>0</td>\n",
       "      <td>1</td>\n",
       "    </tr>\n",
       "  </tbody>\n",
       "</table>\n",
       "<p>111587 rows × 16 columns</p>\n",
       "</div>"
      ],
      "text/plain": [
       "        Year  Customer_Age  Order_Quantity  Unit_Price  Revenue  \\\n",
       "0       2013            19               8         120      600   \n",
       "1       2015            19               8         120      600   \n",
       "2       2014            49              23         120     1725   \n",
       "3       2016            49              20         120     1500   \n",
       "4       2014            47               4         120      300   \n",
       "...      ...           ...             ...         ...      ...   \n",
       "113031  2016            41               3          64      120   \n",
       "113032  2014            18              22          64      880   \n",
       "113033  2016            18              22          64      880   \n",
       "113034  2014            37              24          64      960   \n",
       "113035  2016            37              23          64      920   \n",
       "\n",
       "        Customer_Gender_F  Customer_Gender_M  Country_Australia  \\\n",
       "0                       0                  1                  0   \n",
       "1                       0                  1                  0   \n",
       "2                       0                  1                  1   \n",
       "3                       0                  1                  1   \n",
       "4                       1                  0                  1   \n",
       "...                   ...                ...                ...   \n",
       "113031                  0                  1                  0   \n",
       "113032                  0                  1                  1   \n",
       "113033                  0                  1                  1   \n",
       "113034                  1                  0                  0   \n",
       "113035                  1                  0                  0   \n",
       "\n",
       "        Country_Canada  Country_France  Country_Germany  \\\n",
       "0                    1               0                0   \n",
       "1                    1               0                0   \n",
       "2                    0               0                0   \n",
       "3                    0               0                0   \n",
       "4                    0               0                0   \n",
       "...                ...             ...              ...   \n",
       "113031               0               0                0   \n",
       "113032               0               0                0   \n",
       "113033               0               0                0   \n",
       "113034               0               1                0   \n",
       "113035               0               1                0   \n",
       "\n",
       "        Country_United Kingdom  Country_United States  \\\n",
       "0                            0                      0   \n",
       "1                            0                      0   \n",
       "2                            0                      0   \n",
       "3                            0                      0   \n",
       "4                            0                      0   \n",
       "...                        ...                    ...   \n",
       "113031                       1                      0   \n",
       "113032                       0                      0   \n",
       "113033                       0                      0   \n",
       "113034                       0                      0   \n",
       "113035                       0                      0   \n",
       "\n",
       "        Product_Category_Accessories  Product_Category_Bikes  \\\n",
       "0                                  1                       0   \n",
       "1                                  1                       0   \n",
       "2                                  1                       0   \n",
       "3                                  1                       0   \n",
       "4                                  1                       0   \n",
       "...                              ...                     ...   \n",
       "113031                             0                       0   \n",
       "113032                             0                       0   \n",
       "113033                             0                       0   \n",
       "113034                             0                       0   \n",
       "113035                             0                       0   \n",
       "\n",
       "        Product_Category_Clothing  \n",
       "0                               0  \n",
       "1                               0  \n",
       "2                               0  \n",
       "3                               0  \n",
       "4                               0  \n",
       "...                           ...  \n",
       "113031                          1  \n",
       "113032                          1  \n",
       "113033                          1  \n",
       "113034                          1  \n",
       "113035                          1  \n",
       "\n",
       "[111587 rows x 16 columns]"
      ]
     },
     "execution_count": 50,
     "metadata": {},
     "output_type": "execute_result"
    }
   ],
   "source": [
    "\n",
    "# Conversion of categorical variables to numerical values\n",
    "# One hot encoding conversion without arbituary ordering\n",
    "\n",
    "Bikes_product = pd.get_dummies(Bikes_product)\n",
    "Bikes_product"
   ]
  },
  {
   "cell_type": "code",
   "execution_count": 51,
   "id": "5e5226f1",
   "metadata": {},
   "outputs": [
    {
     "data": {
      "text/html": [
       "<div>\n",
       "<style scoped>\n",
       "    .dataframe tbody tr th:only-of-type {\n",
       "        vertical-align: middle;\n",
       "    }\n",
       "\n",
       "    .dataframe tbody tr th {\n",
       "        vertical-align: top;\n",
       "    }\n",
       "\n",
       "    .dataframe thead th {\n",
       "        text-align: right;\n",
       "    }\n",
       "</style>\n",
       "<table border=\"1\" class=\"dataframe\">\n",
       "  <thead>\n",
       "    <tr style=\"text-align: right;\">\n",
       "      <th></th>\n",
       "      <th>Year</th>\n",
       "      <th>Customer_Age</th>\n",
       "      <th>Order_Quantity</th>\n",
       "      <th>Unit_Price</th>\n",
       "      <th>Customer_Gender_F</th>\n",
       "      <th>Customer_Gender_M</th>\n",
       "      <th>Country_Australia</th>\n",
       "      <th>Country_Canada</th>\n",
       "      <th>Country_France</th>\n",
       "      <th>Country_Germany</th>\n",
       "      <th>Country_United Kingdom</th>\n",
       "      <th>Country_United States</th>\n",
       "      <th>Product_Category_Accessories</th>\n",
       "      <th>Product_Category_Bikes</th>\n",
       "      <th>Product_Category_Clothing</th>\n",
       "    </tr>\n",
       "  </thead>\n",
       "  <tbody>\n",
       "    <tr>\n",
       "      <th>108927</th>\n",
       "      <td>2016</td>\n",
       "      <td>46</td>\n",
       "      <td>3</td>\n",
       "      <td>2384</td>\n",
       "      <td>1</td>\n",
       "      <td>0</td>\n",
       "      <td>0</td>\n",
       "      <td>0</td>\n",
       "      <td>1</td>\n",
       "      <td>0</td>\n",
       "      <td>0</td>\n",
       "      <td>0</td>\n",
       "      <td>0</td>\n",
       "      <td>1</td>\n",
       "      <td>0</td>\n",
       "    </tr>\n",
       "    <tr>\n",
       "      <th>13410</th>\n",
       "      <td>2014</td>\n",
       "      <td>31</td>\n",
       "      <td>7</td>\n",
       "      <td>5</td>\n",
       "      <td>1</td>\n",
       "      <td>0</td>\n",
       "      <td>1</td>\n",
       "      <td>0</td>\n",
       "      <td>0</td>\n",
       "      <td>0</td>\n",
       "      <td>0</td>\n",
       "      <td>0</td>\n",
       "      <td>1</td>\n",
       "      <td>0</td>\n",
       "      <td>0</td>\n",
       "    </tr>\n",
       "    <tr>\n",
       "      <th>94996</th>\n",
       "      <td>2013</td>\n",
       "      <td>30</td>\n",
       "      <td>28</td>\n",
       "      <td>5</td>\n",
       "      <td>1</td>\n",
       "      <td>0</td>\n",
       "      <td>1</td>\n",
       "      <td>0</td>\n",
       "      <td>0</td>\n",
       "      <td>0</td>\n",
       "      <td>0</td>\n",
       "      <td>0</td>\n",
       "      <td>1</td>\n",
       "      <td>0</td>\n",
       "      <td>0</td>\n",
       "    </tr>\n",
       "    <tr>\n",
       "      <th>1872</th>\n",
       "      <td>2013</td>\n",
       "      <td>52</td>\n",
       "      <td>22</td>\n",
       "      <td>5</td>\n",
       "      <td>1</td>\n",
       "      <td>0</td>\n",
       "      <td>0</td>\n",
       "      <td>1</td>\n",
       "      <td>0</td>\n",
       "      <td>0</td>\n",
       "      <td>0</td>\n",
       "      <td>0</td>\n",
       "      <td>1</td>\n",
       "      <td>0</td>\n",
       "      <td>0</td>\n",
       "    </tr>\n",
       "    <tr>\n",
       "      <th>70156</th>\n",
       "      <td>2013</td>\n",
       "      <td>22</td>\n",
       "      <td>1</td>\n",
       "      <td>1701</td>\n",
       "      <td>1</td>\n",
       "      <td>0</td>\n",
       "      <td>1</td>\n",
       "      <td>0</td>\n",
       "      <td>0</td>\n",
       "      <td>0</td>\n",
       "      <td>0</td>\n",
       "      <td>0</td>\n",
       "      <td>0</td>\n",
       "      <td>1</td>\n",
       "      <td>0</td>\n",
       "    </tr>\n",
       "    <tr>\n",
       "      <th>...</th>\n",
       "      <td>...</td>\n",
       "      <td>...</td>\n",
       "      <td>...</td>\n",
       "      <td>...</td>\n",
       "      <td>...</td>\n",
       "      <td>...</td>\n",
       "      <td>...</td>\n",
       "      <td>...</td>\n",
       "      <td>...</td>\n",
       "      <td>...</td>\n",
       "      <td>...</td>\n",
       "      <td>...</td>\n",
       "      <td>...</td>\n",
       "      <td>...</td>\n",
       "      <td>...</td>\n",
       "    </tr>\n",
       "    <tr>\n",
       "      <th>77731</th>\n",
       "      <td>2015</td>\n",
       "      <td>59</td>\n",
       "      <td>13</td>\n",
       "      <td>2</td>\n",
       "      <td>1</td>\n",
       "      <td>0</td>\n",
       "      <td>0</td>\n",
       "      <td>0</td>\n",
       "      <td>0</td>\n",
       "      <td>0</td>\n",
       "      <td>0</td>\n",
       "      <td>1</td>\n",
       "      <td>1</td>\n",
       "      <td>0</td>\n",
       "      <td>0</td>\n",
       "    </tr>\n",
       "    <tr>\n",
       "      <th>111713</th>\n",
       "      <td>2015</td>\n",
       "      <td>24</td>\n",
       "      <td>1</td>\n",
       "      <td>2384</td>\n",
       "      <td>0</td>\n",
       "      <td>1</td>\n",
       "      <td>0</td>\n",
       "      <td>0</td>\n",
       "      <td>0</td>\n",
       "      <td>0</td>\n",
       "      <td>1</td>\n",
       "      <td>0</td>\n",
       "      <td>0</td>\n",
       "      <td>1</td>\n",
       "      <td>0</td>\n",
       "    </tr>\n",
       "    <tr>\n",
       "      <th>105062</th>\n",
       "      <td>2014</td>\n",
       "      <td>21</td>\n",
       "      <td>29</td>\n",
       "      <td>2</td>\n",
       "      <td>0</td>\n",
       "      <td>1</td>\n",
       "      <td>0</td>\n",
       "      <td>0</td>\n",
       "      <td>0</td>\n",
       "      <td>0</td>\n",
       "      <td>0</td>\n",
       "      <td>1</td>\n",
       "      <td>1</td>\n",
       "      <td>0</td>\n",
       "      <td>0</td>\n",
       "    </tr>\n",
       "    <tr>\n",
       "      <th>860</th>\n",
       "      <td>2014</td>\n",
       "      <td>61</td>\n",
       "      <td>10</td>\n",
       "      <td>159</td>\n",
       "      <td>0</td>\n",
       "      <td>1</td>\n",
       "      <td>0</td>\n",
       "      <td>0</td>\n",
       "      <td>0</td>\n",
       "      <td>0</td>\n",
       "      <td>0</td>\n",
       "      <td>1</td>\n",
       "      <td>1</td>\n",
       "      <td>0</td>\n",
       "      <td>0</td>\n",
       "    </tr>\n",
       "    <tr>\n",
       "      <th>16009</th>\n",
       "      <td>2015</td>\n",
       "      <td>35</td>\n",
       "      <td>23</td>\n",
       "      <td>9</td>\n",
       "      <td>1</td>\n",
       "      <td>0</td>\n",
       "      <td>1</td>\n",
       "      <td>0</td>\n",
       "      <td>0</td>\n",
       "      <td>0</td>\n",
       "      <td>0</td>\n",
       "      <td>0</td>\n",
       "      <td>1</td>\n",
       "      <td>0</td>\n",
       "      <td>0</td>\n",
       "    </tr>\n",
       "  </tbody>\n",
       "</table>\n",
       "<p>89269 rows × 15 columns</p>\n",
       "</div>"
      ],
      "text/plain": [
       "        Year  Customer_Age  Order_Quantity  Unit_Price  Customer_Gender_F  \\\n",
       "108927  2016            46               3        2384                  1   \n",
       "13410   2014            31               7           5                  1   \n",
       "94996   2013            30              28           5                  1   \n",
       "1872    2013            52              22           5                  1   \n",
       "70156   2013            22               1        1701                  1   \n",
       "...      ...           ...             ...         ...                ...   \n",
       "77731   2015            59              13           2                  1   \n",
       "111713  2015            24               1        2384                  0   \n",
       "105062  2014            21              29           2                  0   \n",
       "860     2014            61              10         159                  0   \n",
       "16009   2015            35              23           9                  1   \n",
       "\n",
       "        Customer_Gender_M  Country_Australia  Country_Canada  Country_France  \\\n",
       "108927                  0                  0               0               1   \n",
       "13410                   0                  1               0               0   \n",
       "94996                   0                  1               0               0   \n",
       "1872                    0                  0               1               0   \n",
       "70156                   0                  1               0               0   \n",
       "...                   ...                ...             ...             ...   \n",
       "77731                   0                  0               0               0   \n",
       "111713                  1                  0               0               0   \n",
       "105062                  1                  0               0               0   \n",
       "860                     1                  0               0               0   \n",
       "16009                   0                  1               0               0   \n",
       "\n",
       "        Country_Germany  Country_United Kingdom  Country_United States  \\\n",
       "108927                0                       0                      0   \n",
       "13410                 0                       0                      0   \n",
       "94996                 0                       0                      0   \n",
       "1872                  0                       0                      0   \n",
       "70156                 0                       0                      0   \n",
       "...                 ...                     ...                    ...   \n",
       "77731                 0                       0                      1   \n",
       "111713                0                       1                      0   \n",
       "105062                0                       0                      1   \n",
       "860                   0                       0                      1   \n",
       "16009                 0                       0                      0   \n",
       "\n",
       "        Product_Category_Accessories  Product_Category_Bikes  \\\n",
       "108927                             0                       1   \n",
       "13410                              1                       0   \n",
       "94996                              1                       0   \n",
       "1872                               1                       0   \n",
       "70156                              0                       1   \n",
       "...                              ...                     ...   \n",
       "77731                              1                       0   \n",
       "111713                             0                       1   \n",
       "105062                             1                       0   \n",
       "860                                1                       0   \n",
       "16009                              1                       0   \n",
       "\n",
       "        Product_Category_Clothing  \n",
       "108927                          0  \n",
       "13410                           0  \n",
       "94996                           0  \n",
       "1872                            0  \n",
       "70156                           0  \n",
       "...                           ...  \n",
       "77731                           0  \n",
       "111713                          0  \n",
       "105062                          0  \n",
       "860                             0  \n",
       "16009                           0  \n",
       "\n",
       "[89269 rows x 15 columns]"
      ]
     },
     "execution_count": 51,
     "metadata": {},
     "output_type": "execute_result"
    }
   ],
   "source": [
    "# Split the Bike_product dataframe into training , testing, features, targets\n",
    "\n",
    "X = Bikes_product.drop(\"Revenue\" , axis = 1)  # This generates the input variables(independent)\n",
    "y = Bikes_product[\"Revenue\"]   # This is the output or outcome variable(dependent)\n",
    "\n",
    "X_train_val, X_test, y_train_val, y_test = train_test_split(X, y, test_size=0.2, random_state=42) # 20% for testing\n",
    "X_train, X_val, y_train, y_val = train_test_split(X, y, test_size=.25, random_state=42)\n",
    "\n",
    "X_train_val"
   ]
  },
  {
   "cell_type": "code",
   "execution_count": 52,
   "id": "3cbc4f2d",
   "metadata": {},
   "outputs": [
    {
     "data": {
      "text/plain": [
       "108927    2706\n",
       "13410       21\n",
       "94996       84\n",
       "1872        66\n",
       "70156      618\n",
       "          ... \n",
       "77731       13\n",
       "111713     902\n",
       "105062      29\n",
       "860       1000\n",
       "16009      138\n",
       "Name: Revenue, Length: 89269, dtype: int64"
      ]
     },
     "execution_count": 52,
     "metadata": {},
     "output_type": "execute_result"
    }
   ],
   "source": [
    "y_train_val"
   ]
  },
  {
   "cell_type": "code",
   "execution_count": 53,
   "id": "164b600b",
   "metadata": {},
   "outputs": [
    {
     "data": {
      "text/html": [
       "<div>\n",
       "<style scoped>\n",
       "    .dataframe tbody tr th:only-of-type {\n",
       "        vertical-align: middle;\n",
       "    }\n",
       "\n",
       "    .dataframe tbody tr th {\n",
       "        vertical-align: top;\n",
       "    }\n",
       "\n",
       "    .dataframe thead th {\n",
       "        text-align: right;\n",
       "    }\n",
       "</style>\n",
       "<table border=\"1\" class=\"dataframe\">\n",
       "  <thead>\n",
       "    <tr style=\"text-align: right;\">\n",
       "      <th></th>\n",
       "      <th>Year</th>\n",
       "      <th>Customer_Age</th>\n",
       "      <th>Order_Quantity</th>\n",
       "      <th>Unit_Price</th>\n",
       "      <th>Customer_Gender_F</th>\n",
       "      <th>Customer_Gender_M</th>\n",
       "      <th>Country_Australia</th>\n",
       "      <th>Country_Canada</th>\n",
       "      <th>Country_France</th>\n",
       "      <th>Country_Germany</th>\n",
       "      <th>Country_United Kingdom</th>\n",
       "      <th>Country_United States</th>\n",
       "      <th>Product_Category_Accessories</th>\n",
       "      <th>Product_Category_Bikes</th>\n",
       "      <th>Product_Category_Clothing</th>\n",
       "    </tr>\n",
       "  </thead>\n",
       "  <tbody>\n",
       "    <tr>\n",
       "      <th>101757</th>\n",
       "      <td>2016</td>\n",
       "      <td>27</td>\n",
       "      <td>25</td>\n",
       "      <td>25</td>\n",
       "      <td>1</td>\n",
       "      <td>0</td>\n",
       "      <td>0</td>\n",
       "      <td>0</td>\n",
       "      <td>0</td>\n",
       "      <td>0</td>\n",
       "      <td>1</td>\n",
       "      <td>0</td>\n",
       "      <td>1</td>\n",
       "      <td>0</td>\n",
       "      <td>0</td>\n",
       "    </tr>\n",
       "    <tr>\n",
       "      <th>66060</th>\n",
       "      <td>2014</td>\n",
       "      <td>49</td>\n",
       "      <td>1</td>\n",
       "      <td>1120</td>\n",
       "      <td>1</td>\n",
       "      <td>0</td>\n",
       "      <td>0</td>\n",
       "      <td>0</td>\n",
       "      <td>0</td>\n",
       "      <td>0</td>\n",
       "      <td>0</td>\n",
       "      <td>1</td>\n",
       "      <td>0</td>\n",
       "      <td>1</td>\n",
       "      <td>0</td>\n",
       "    </tr>\n",
       "    <tr>\n",
       "      <th>81749</th>\n",
       "      <td>2016</td>\n",
       "      <td>40</td>\n",
       "      <td>29</td>\n",
       "      <td>30</td>\n",
       "      <td>0</td>\n",
       "      <td>1</td>\n",
       "      <td>0</td>\n",
       "      <td>1</td>\n",
       "      <td>0</td>\n",
       "      <td>0</td>\n",
       "      <td>0</td>\n",
       "      <td>0</td>\n",
       "      <td>1</td>\n",
       "      <td>0</td>\n",
       "      <td>0</td>\n",
       "    </tr>\n",
       "    <tr>\n",
       "      <th>19329</th>\n",
       "      <td>2016</td>\n",
       "      <td>37</td>\n",
       "      <td>27</td>\n",
       "      <td>9</td>\n",
       "      <td>0</td>\n",
       "      <td>1</td>\n",
       "      <td>0</td>\n",
       "      <td>0</td>\n",
       "      <td>0</td>\n",
       "      <td>0</td>\n",
       "      <td>0</td>\n",
       "      <td>1</td>\n",
       "      <td>0</td>\n",
       "      <td>0</td>\n",
       "      <td>1</td>\n",
       "    </tr>\n",
       "    <tr>\n",
       "      <th>20857</th>\n",
       "      <td>2016</td>\n",
       "      <td>28</td>\n",
       "      <td>21</td>\n",
       "      <td>9</td>\n",
       "      <td>1</td>\n",
       "      <td>0</td>\n",
       "      <td>0</td>\n",
       "      <td>0</td>\n",
       "      <td>0</td>\n",
       "      <td>1</td>\n",
       "      <td>0</td>\n",
       "      <td>0</td>\n",
       "      <td>0</td>\n",
       "      <td>0</td>\n",
       "      <td>1</td>\n",
       "    </tr>\n",
       "    <tr>\n",
       "      <th>...</th>\n",
       "      <td>...</td>\n",
       "      <td>...</td>\n",
       "      <td>...</td>\n",
       "      <td>...</td>\n",
       "      <td>...</td>\n",
       "      <td>...</td>\n",
       "      <td>...</td>\n",
       "      <td>...</td>\n",
       "      <td>...</td>\n",
       "      <td>...</td>\n",
       "      <td>...</td>\n",
       "      <td>...</td>\n",
       "      <td>...</td>\n",
       "      <td>...</td>\n",
       "      <td>...</td>\n",
       "    </tr>\n",
       "    <tr>\n",
       "      <th>98132</th>\n",
       "      <td>2014</td>\n",
       "      <td>40</td>\n",
       "      <td>16</td>\n",
       "      <td>2</td>\n",
       "      <td>1</td>\n",
       "      <td>0</td>\n",
       "      <td>0</td>\n",
       "      <td>0</td>\n",
       "      <td>0</td>\n",
       "      <td>0</td>\n",
       "      <td>0</td>\n",
       "      <td>1</td>\n",
       "      <td>1</td>\n",
       "      <td>0</td>\n",
       "      <td>0</td>\n",
       "    </tr>\n",
       "    <tr>\n",
       "      <th>100779</th>\n",
       "      <td>2016</td>\n",
       "      <td>20</td>\n",
       "      <td>5</td>\n",
       "      <td>4</td>\n",
       "      <td>0</td>\n",
       "      <td>1</td>\n",
       "      <td>0</td>\n",
       "      <td>0</td>\n",
       "      <td>0</td>\n",
       "      <td>0</td>\n",
       "      <td>0</td>\n",
       "      <td>1</td>\n",
       "      <td>1</td>\n",
       "      <td>0</td>\n",
       "      <td>0</td>\n",
       "    </tr>\n",
       "    <tr>\n",
       "      <th>96370</th>\n",
       "      <td>2015</td>\n",
       "      <td>32</td>\n",
       "      <td>22</td>\n",
       "      <td>29</td>\n",
       "      <td>0</td>\n",
       "      <td>1</td>\n",
       "      <td>0</td>\n",
       "      <td>0</td>\n",
       "      <td>0</td>\n",
       "      <td>1</td>\n",
       "      <td>0</td>\n",
       "      <td>0</td>\n",
       "      <td>1</td>\n",
       "      <td>0</td>\n",
       "      <td>0</td>\n",
       "    </tr>\n",
       "    <tr>\n",
       "      <th>56000</th>\n",
       "      <td>2014</td>\n",
       "      <td>36</td>\n",
       "      <td>1</td>\n",
       "      <td>2295</td>\n",
       "      <td>0</td>\n",
       "      <td>1</td>\n",
       "      <td>0</td>\n",
       "      <td>0</td>\n",
       "      <td>0</td>\n",
       "      <td>0</td>\n",
       "      <td>0</td>\n",
       "      <td>1</td>\n",
       "      <td>0</td>\n",
       "      <td>1</td>\n",
       "      <td>0</td>\n",
       "    </tr>\n",
       "    <tr>\n",
       "      <th>29089</th>\n",
       "      <td>2016</td>\n",
       "      <td>56</td>\n",
       "      <td>1</td>\n",
       "      <td>24</td>\n",
       "      <td>1</td>\n",
       "      <td>0</td>\n",
       "      <td>0</td>\n",
       "      <td>1</td>\n",
       "      <td>0</td>\n",
       "      <td>0</td>\n",
       "      <td>0</td>\n",
       "      <td>0</td>\n",
       "      <td>0</td>\n",
       "      <td>0</td>\n",
       "      <td>1</td>\n",
       "    </tr>\n",
       "  </tbody>\n",
       "</table>\n",
       "<p>22318 rows × 15 columns</p>\n",
       "</div>"
      ],
      "text/plain": [
       "        Year  Customer_Age  Order_Quantity  Unit_Price  Customer_Gender_F  \\\n",
       "101757  2016            27              25          25                  1   \n",
       "66060   2014            49               1        1120                  1   \n",
       "81749   2016            40              29          30                  0   \n",
       "19329   2016            37              27           9                  0   \n",
       "20857   2016            28              21           9                  1   \n",
       "...      ...           ...             ...         ...                ...   \n",
       "98132   2014            40              16           2                  1   \n",
       "100779  2016            20               5           4                  0   \n",
       "96370   2015            32              22          29                  0   \n",
       "56000   2014            36               1        2295                  0   \n",
       "29089   2016            56               1          24                  1   \n",
       "\n",
       "        Customer_Gender_M  Country_Australia  Country_Canada  Country_France  \\\n",
       "101757                  0                  0               0               0   \n",
       "66060                   0                  0               0               0   \n",
       "81749                   1                  0               1               0   \n",
       "19329                   1                  0               0               0   \n",
       "20857                   0                  0               0               0   \n",
       "...                   ...                ...             ...             ...   \n",
       "98132                   0                  0               0               0   \n",
       "100779                  1                  0               0               0   \n",
       "96370                   1                  0               0               0   \n",
       "56000                   1                  0               0               0   \n",
       "29089                   0                  0               1               0   \n",
       "\n",
       "        Country_Germany  Country_United Kingdom  Country_United States  \\\n",
       "101757                0                       1                      0   \n",
       "66060                 0                       0                      1   \n",
       "81749                 0                       0                      0   \n",
       "19329                 0                       0                      1   \n",
       "20857                 1                       0                      0   \n",
       "...                 ...                     ...                    ...   \n",
       "98132                 0                       0                      1   \n",
       "100779                0                       0                      1   \n",
       "96370                 1                       0                      0   \n",
       "56000                 0                       0                      1   \n",
       "29089                 0                       0                      0   \n",
       "\n",
       "        Product_Category_Accessories  Product_Category_Bikes  \\\n",
       "101757                             1                       0   \n",
       "66060                              0                       1   \n",
       "81749                              1                       0   \n",
       "19329                              0                       0   \n",
       "20857                              0                       0   \n",
       "...                              ...                     ...   \n",
       "98132                              1                       0   \n",
       "100779                             1                       0   \n",
       "96370                              1                       0   \n",
       "56000                              0                       1   \n",
       "29089                              0                       0   \n",
       "\n",
       "        Product_Category_Clothing  \n",
       "101757                          0  \n",
       "66060                           0  \n",
       "81749                           0  \n",
       "19329                           1  \n",
       "20857                           1  \n",
       "...                           ...  \n",
       "98132                           0  \n",
       "100779                          0  \n",
       "96370                           0  \n",
       "56000                           0  \n",
       "29089                           1  \n",
       "\n",
       "[22318 rows x 15 columns]"
      ]
     },
     "execution_count": 53,
     "metadata": {},
     "output_type": "execute_result"
    }
   ],
   "source": [
    "X_test"
   ]
  },
  {
   "cell_type": "code",
   "execution_count": 54,
   "id": "4f3e1f3b",
   "metadata": {},
   "outputs": [
    {
     "data": {
      "text/html": [
       "<div>\n",
       "<style scoped>\n",
       "    .dataframe tbody tr th:only-of-type {\n",
       "        vertical-align: middle;\n",
       "    }\n",
       "\n",
       "    .dataframe tbody tr th {\n",
       "        vertical-align: top;\n",
       "    }\n",
       "\n",
       "    .dataframe thead th {\n",
       "        text-align: right;\n",
       "    }\n",
       "</style>\n",
       "<table border=\"1\" class=\"dataframe\">\n",
       "  <thead>\n",
       "    <tr style=\"text-align: right;\">\n",
       "      <th></th>\n",
       "      <th>Year</th>\n",
       "      <th>Customer_Age</th>\n",
       "      <th>Order_Quantity</th>\n",
       "      <th>Unit_Price</th>\n",
       "      <th>Customer_Gender_F</th>\n",
       "      <th>Customer_Gender_M</th>\n",
       "      <th>Country_Australia</th>\n",
       "      <th>Country_Canada</th>\n",
       "      <th>Country_France</th>\n",
       "      <th>Country_Germany</th>\n",
       "      <th>Country_United Kingdom</th>\n",
       "      <th>Country_United States</th>\n",
       "      <th>Product_Category_Accessories</th>\n",
       "      <th>Product_Category_Bikes</th>\n",
       "      <th>Product_Category_Clothing</th>\n",
       "    </tr>\n",
       "  </thead>\n",
       "  <tbody>\n",
       "    <tr>\n",
       "      <th>3045</th>\n",
       "      <td>2014</td>\n",
       "      <td>48</td>\n",
       "      <td>17</td>\n",
       "      <td>5</td>\n",
       "      <td>0</td>\n",
       "      <td>1</td>\n",
       "      <td>0</td>\n",
       "      <td>1</td>\n",
       "      <td>0</td>\n",
       "      <td>0</td>\n",
       "      <td>0</td>\n",
       "      <td>0</td>\n",
       "      <td>1</td>\n",
       "      <td>0</td>\n",
       "      <td>0</td>\n",
       "    </tr>\n",
       "    <tr>\n",
       "      <th>83268</th>\n",
       "      <td>2013</td>\n",
       "      <td>38</td>\n",
       "      <td>4</td>\n",
       "      <td>25</td>\n",
       "      <td>1</td>\n",
       "      <td>0</td>\n",
       "      <td>0</td>\n",
       "      <td>0</td>\n",
       "      <td>0</td>\n",
       "      <td>0</td>\n",
       "      <td>1</td>\n",
       "      <td>0</td>\n",
       "      <td>1</td>\n",
       "      <td>0</td>\n",
       "      <td>0</td>\n",
       "    </tr>\n",
       "    <tr>\n",
       "      <th>81679</th>\n",
       "      <td>2015</td>\n",
       "      <td>40</td>\n",
       "      <td>1</td>\n",
       "      <td>30</td>\n",
       "      <td>0</td>\n",
       "      <td>1</td>\n",
       "      <td>0</td>\n",
       "      <td>1</td>\n",
       "      <td>0</td>\n",
       "      <td>0</td>\n",
       "      <td>0</td>\n",
       "      <td>0</td>\n",
       "      <td>1</td>\n",
       "      <td>0</td>\n",
       "      <td>0</td>\n",
       "    </tr>\n",
       "    <tr>\n",
       "      <th>34903</th>\n",
       "      <td>2016</td>\n",
       "      <td>29</td>\n",
       "      <td>12</td>\n",
       "      <td>35</td>\n",
       "      <td>0</td>\n",
       "      <td>1</td>\n",
       "      <td>0</td>\n",
       "      <td>0</td>\n",
       "      <td>0</td>\n",
       "      <td>0</td>\n",
       "      <td>0</td>\n",
       "      <td>1</td>\n",
       "      <td>1</td>\n",
       "      <td>0</td>\n",
       "      <td>0</td>\n",
       "    </tr>\n",
       "    <tr>\n",
       "      <th>62271</th>\n",
       "      <td>2015</td>\n",
       "      <td>35</td>\n",
       "      <td>1</td>\n",
       "      <td>1701</td>\n",
       "      <td>1</td>\n",
       "      <td>0</td>\n",
       "      <td>0</td>\n",
       "      <td>0</td>\n",
       "      <td>0</td>\n",
       "      <td>1</td>\n",
       "      <td>0</td>\n",
       "      <td>0</td>\n",
       "      <td>0</td>\n",
       "      <td>1</td>\n",
       "      <td>0</td>\n",
       "    </tr>\n",
       "    <tr>\n",
       "      <th>...</th>\n",
       "      <td>...</td>\n",
       "      <td>...</td>\n",
       "      <td>...</td>\n",
       "      <td>...</td>\n",
       "      <td>...</td>\n",
       "      <td>...</td>\n",
       "      <td>...</td>\n",
       "      <td>...</td>\n",
       "      <td>...</td>\n",
       "      <td>...</td>\n",
       "      <td>...</td>\n",
       "      <td>...</td>\n",
       "      <td>...</td>\n",
       "      <td>...</td>\n",
       "      <td>...</td>\n",
       "    </tr>\n",
       "    <tr>\n",
       "      <th>77731</th>\n",
       "      <td>2015</td>\n",
       "      <td>59</td>\n",
       "      <td>13</td>\n",
       "      <td>2</td>\n",
       "      <td>1</td>\n",
       "      <td>0</td>\n",
       "      <td>0</td>\n",
       "      <td>0</td>\n",
       "      <td>0</td>\n",
       "      <td>0</td>\n",
       "      <td>0</td>\n",
       "      <td>1</td>\n",
       "      <td>1</td>\n",
       "      <td>0</td>\n",
       "      <td>0</td>\n",
       "    </tr>\n",
       "    <tr>\n",
       "      <th>111713</th>\n",
       "      <td>2015</td>\n",
       "      <td>24</td>\n",
       "      <td>1</td>\n",
       "      <td>2384</td>\n",
       "      <td>0</td>\n",
       "      <td>1</td>\n",
       "      <td>0</td>\n",
       "      <td>0</td>\n",
       "      <td>0</td>\n",
       "      <td>0</td>\n",
       "      <td>1</td>\n",
       "      <td>0</td>\n",
       "      <td>0</td>\n",
       "      <td>1</td>\n",
       "      <td>0</td>\n",
       "    </tr>\n",
       "    <tr>\n",
       "      <th>105062</th>\n",
       "      <td>2014</td>\n",
       "      <td>21</td>\n",
       "      <td>29</td>\n",
       "      <td>2</td>\n",
       "      <td>0</td>\n",
       "      <td>1</td>\n",
       "      <td>0</td>\n",
       "      <td>0</td>\n",
       "      <td>0</td>\n",
       "      <td>0</td>\n",
       "      <td>0</td>\n",
       "      <td>1</td>\n",
       "      <td>1</td>\n",
       "      <td>0</td>\n",
       "      <td>0</td>\n",
       "    </tr>\n",
       "    <tr>\n",
       "      <th>860</th>\n",
       "      <td>2014</td>\n",
       "      <td>61</td>\n",
       "      <td>10</td>\n",
       "      <td>159</td>\n",
       "      <td>0</td>\n",
       "      <td>1</td>\n",
       "      <td>0</td>\n",
       "      <td>0</td>\n",
       "      <td>0</td>\n",
       "      <td>0</td>\n",
       "      <td>0</td>\n",
       "      <td>1</td>\n",
       "      <td>1</td>\n",
       "      <td>0</td>\n",
       "      <td>0</td>\n",
       "    </tr>\n",
       "    <tr>\n",
       "      <th>16009</th>\n",
       "      <td>2015</td>\n",
       "      <td>35</td>\n",
       "      <td>23</td>\n",
       "      <td>9</td>\n",
       "      <td>1</td>\n",
       "      <td>0</td>\n",
       "      <td>1</td>\n",
       "      <td>0</td>\n",
       "      <td>0</td>\n",
       "      <td>0</td>\n",
       "      <td>0</td>\n",
       "      <td>0</td>\n",
       "      <td>1</td>\n",
       "      <td>0</td>\n",
       "      <td>0</td>\n",
       "    </tr>\n",
       "  </tbody>\n",
       "</table>\n",
       "<p>83690 rows × 15 columns</p>\n",
       "</div>"
      ],
      "text/plain": [
       "        Year  Customer_Age  Order_Quantity  Unit_Price  Customer_Gender_F  \\\n",
       "3045    2014            48              17           5                  0   \n",
       "83268   2013            38               4          25                  1   \n",
       "81679   2015            40               1          30                  0   \n",
       "34903   2016            29              12          35                  0   \n",
       "62271   2015            35               1        1701                  1   \n",
       "...      ...           ...             ...         ...                ...   \n",
       "77731   2015            59              13           2                  1   \n",
       "111713  2015            24               1        2384                  0   \n",
       "105062  2014            21              29           2                  0   \n",
       "860     2014            61              10         159                  0   \n",
       "16009   2015            35              23           9                  1   \n",
       "\n",
       "        Customer_Gender_M  Country_Australia  Country_Canada  Country_France  \\\n",
       "3045                    1                  0               1               0   \n",
       "83268                   0                  0               0               0   \n",
       "81679                   1                  0               1               0   \n",
       "34903                   1                  0               0               0   \n",
       "62271                   0                  0               0               0   \n",
       "...                   ...                ...             ...             ...   \n",
       "77731                   0                  0               0               0   \n",
       "111713                  1                  0               0               0   \n",
       "105062                  1                  0               0               0   \n",
       "860                     1                  0               0               0   \n",
       "16009                   0                  1               0               0   \n",
       "\n",
       "        Country_Germany  Country_United Kingdom  Country_United States  \\\n",
       "3045                  0                       0                      0   \n",
       "83268                 0                       1                      0   \n",
       "81679                 0                       0                      0   \n",
       "34903                 0                       0                      1   \n",
       "62271                 1                       0                      0   \n",
       "...                 ...                     ...                    ...   \n",
       "77731                 0                       0                      1   \n",
       "111713                0                       1                      0   \n",
       "105062                0                       0                      1   \n",
       "860                   0                       0                      1   \n",
       "16009                 0                       0                      0   \n",
       "\n",
       "        Product_Category_Accessories  Product_Category_Bikes  \\\n",
       "3045                               1                       0   \n",
       "83268                              1                       0   \n",
       "81679                              1                       0   \n",
       "34903                              1                       0   \n",
       "62271                              0                       1   \n",
       "...                              ...                     ...   \n",
       "77731                              1                       0   \n",
       "111713                             0                       1   \n",
       "105062                             1                       0   \n",
       "860                                1                       0   \n",
       "16009                              1                       0   \n",
       "\n",
       "        Product_Category_Clothing  \n",
       "3045                            0  \n",
       "83268                           0  \n",
       "81679                           0  \n",
       "34903                           0  \n",
       "62271                           0  \n",
       "...                           ...  \n",
       "77731                           0  \n",
       "111713                          0  \n",
       "105062                          0  \n",
       "860                             0  \n",
       "16009                           0  \n",
       "\n",
       "[83690 rows x 15 columns]"
      ]
     },
     "execution_count": 54,
     "metadata": {},
     "output_type": "execute_result"
    }
   ],
   "source": [
    "X_train\n"
   ]
  },
  {
   "cell_type": "code",
   "execution_count": 55,
   "id": "9363c090",
   "metadata": {},
   "outputs": [
    {
     "data": {
      "text/plain": [
       "3045        51\n",
       "83268       64\n",
       "81679       19\n",
       "34903      264\n",
       "62271      618\n",
       "          ... \n",
       "77731       13\n",
       "111713     902\n",
       "105062      29\n",
       "860       1000\n",
       "16009      138\n",
       "Name: Revenue, Length: 83690, dtype: int64"
      ]
     },
     "execution_count": 55,
     "metadata": {},
     "output_type": "execute_result"
    }
   ],
   "source": [
    "y_train"
   ]
  },
  {
   "cell_type": "markdown",
   "id": "15e7d6f2",
   "metadata": {},
   "source": [
    "# Data Normalization with standard scaler"
   ]
  },
  {
   "cell_type": "code",
   "execution_count": 56,
   "id": "81dc1875",
   "metadata": {},
   "outputs": [
    {
     "data": {
      "text/plain": [
       "array([[ 1.26036628, -0.81164841,  1.36552674, ...,  0.78210334,\n",
       "        -0.54253915, -0.42357227],\n",
       "       [-0.31731841,  1.19009672, -1.14255225, ..., -1.27860341,\n",
       "         1.84318496, -0.42357227],\n",
       "       [ 1.26036628,  0.37120099,  1.78353991, ...,  0.78210334,\n",
       "        -0.54253915, -0.42357227],\n",
       "       ...,\n",
       "       [ 0.47152394, -0.35670633,  1.05201687, ...,  0.78210334,\n",
       "        -0.54253915, -0.42357227],\n",
       "       [-0.31731841,  0.00724733, -1.14255225, ..., -1.27860341,\n",
       "         1.84318496, -0.42357227],\n",
       "       [ 1.26036628,  1.82701563, -1.14255225, ..., -1.27860341,\n",
       "        -0.54253915,  2.36087223]])"
      ]
     },
     "execution_count": 56,
     "metadata": {},
     "output_type": "execute_result"
    }
   ],
   "source": [
    "# Balancing of the data through \"Scaler\" to optimize the result.\n",
    "\n",
    "scaler = StandardScaler()\n",
    "\n",
    "X_train = scaler.fit_transform(X_train.values)\n",
    "X_val  = scaler.transform(X_val.values)\n",
    "X_test = scaler.transform(X_test.values)          #Display the standardidzed data\n",
    "X_test"
   ]
  },
  {
   "cell_type": "markdown",
   "id": "ce6f31a5",
   "metadata": {},
   "source": [
    "# Regression Algorithms"
   ]
  },
  {
   "cell_type": "markdown",
   "id": "7bb1a8f5",
   "metadata": {},
   "source": [
    "# 1. Linear Regression"
   ]
  },
  {
   "cell_type": "code",
   "execution_count": 57,
   "id": "e9ee67af",
   "metadata": {},
   "outputs": [
    {
     "data": {
      "text/plain": [
       "0.6999306074777474"
      ]
     },
     "execution_count": 57,
     "metadata": {},
     "output_type": "execute_result"
    }
   ],
   "source": [
    "# Linear Regression\n",
    "\n",
    "# Training\n",
    "model_linear = LinearRegression().fit(X_train,y_train)\n",
    "\n",
    "model_linear.score(X_train,y_train)"
   ]
  },
  {
   "cell_type": "code",
   "execution_count": 58,
   "id": "a84c92be",
   "metadata": {},
   "outputs": [
    {
     "name": "stdout",
     "output_type": "stream",
     "text": [
      "Linear Regression val R^2: 0.703\n"
     ]
    }
   ],
   "source": [
    "# Validation\n",
    "\n",
    "model_linear.fit(X_val, y_val)\n",
    "print(f'Linear Regression val R^2: {model_linear.score(X_val, y_val):.3f}')\n"
   ]
  },
  {
   "cell_type": "code",
   "execution_count": 59,
   "id": "5c830ac5",
   "metadata": {},
   "outputs": [
    {
     "name": "stdout",
     "output_type": "stream",
     "text": [
      "Linear Regression test R^2: 0.702\n"
     ]
    }
   ],
   "source": [
    "# Testing\n",
    "\n",
    "model_linear.fit(X_test, y_test)\n",
    "print(f'Linear Regression test R^2: {model_linear.score(X_test, y_test):.3f}')\n"
   ]
  },
  {
   "cell_type": "code",
   "execution_count": 60,
   "id": "0bfb19ec",
   "metadata": {},
   "outputs": [
    {
     "data": {
      "text/plain": [
       "(22318, 15)"
      ]
     },
     "execution_count": 60,
     "metadata": {},
     "output_type": "execute_result"
    }
   ],
   "source": [
    "X_test.shape"
   ]
  },
  {
   "cell_type": "code",
   "execution_count": 61,
   "id": "504b2f4e",
   "metadata": {},
   "outputs": [
    {
     "data": {
      "text/plain": [
       "(22318,)"
      ]
     },
     "execution_count": 61,
     "metadata": {},
     "output_type": "execute_result"
    }
   ],
   "source": [
    "y_test.shape"
   ]
  },
  {
   "cell_type": "code",
   "execution_count": 62,
   "id": "e67b8e92",
   "metadata": {},
   "outputs": [
    {
     "data": {
      "text/plain": [
       "array([ 241.129472  ,  612.59508775,  307.01862228, ...,  235.03476764,\n",
       "       1220.35560411,   57.37705297])"
      ]
     },
     "execution_count": 62,
     "metadata": {},
     "output_type": "execute_result"
    }
   ],
   "source": [
    "# Predictions using the testing datasets, outputs a numpy array of values\n",
    "\n",
    "Revenue_y_pred_linear = model_linear.predict(X_test)\n",
    "model_linear.predict(X_test)"
   ]
  },
  {
   "cell_type": "code",
   "execution_count": 63,
   "id": "612013cf",
   "metadata": {},
   "outputs": [
    {
     "name": "stdout",
     "output_type": "stream",
     "text": [
      "Mean Squared Error For Linear Regression:  79633.49723205145\n",
      "Mean Absolute Error For Linear Regression: 178.084\n",
      "Coefficient of determination: 0.70\n"
     ]
    }
   ],
   "source": [
    "\n",
    "# Calculate the mean squared error to evaluate performance\n",
    "\n",
    "mse_linear = mean_squared_error(y_test, Revenue_y_pred_linear)\n",
    "\n",
    "# Print the mean squared error\n",
    "print('Mean Squared Error For Linear Regression: ', mse_linear)\n",
    "\n",
    "mae_linear = mean_absolute_error(y_test, Revenue_y_pred_linear)\n",
    "print(\"Mean Absolute Error For Linear Regression: {:.3f}\".format(mae_linear))\n",
    "\n",
    "# The coefficient of determination: 1 is perfect prediction\n",
    "print(\"Coefficient of determination: %.2f\" % r2_score(y_test, Revenue_y_pred_linear))"
   ]
  },
  {
   "cell_type": "code",
   "execution_count": 64,
   "id": "43857aed",
   "metadata": {},
   "outputs": [
    {
     "data": {
      "image/png": "[encoded data removed]",
      "text/plain": [
       "<Figure size 432x288 with 1 Axes>"
      ]
     },
     "metadata": {},
     "output_type": "display_data"
    }
   ],
   "source": [
    "# Create a scatter plot of the actual vs. predicted Revenue values\n",
    "plt.scatter(y_test, Revenue_y_pred_linear)\n",
    "\n",
    "# Add a line showing perfect predictions\n",
    "plt.plot([0, max(y_test)], [0, max(y_test)], 'r--')\n",
    "\n",
    "# Add axis labels and a title\n",
    "plt.xlabel('Actual Revenue')\n",
    "plt.ylabel('Predicted Revenue')\n",
    "plt.title(f'Linear Regression - Bike Sales\\nMAE: {mae_linear:.2f}')\n",
    "\n",
    "# Show the plot\n",
    "plt.show()"
   ]
  },
  {
   "cell_type": "markdown",
   "id": "e29d1f43",
   "metadata": {},
   "source": [
    "# 2. Ridge Regression"
   ]
  },
  {
   "cell_type": "code",
   "execution_count": 65,
   "id": "cb0d9c1f",
   "metadata": {},
   "outputs": [
    {
     "name": "stdout",
     "output_type": "stream",
     "text": [
      "Ridge Regression train R^2: 0.700\n",
      "Ridge Regression val R^2: 0.703\n",
      "Ridge Regression test R^2: 0.702\n",
      "Mean Squared Error For Ridge Regression:  79633.49724926258\n",
      "Mean Absolute Error For Ridge Regression: 178.084\n"
     ]
    }
   ],
   "source": [
    "# Ridge Regression\n",
    "\n",
    "#Training\n",
    "\n",
    "lr_model_ridge = Ridge(alpha = 0.1)# Alpha is set to a lower value to prevent overfitting\n",
    "lr_model_ridge.fit(X_train, y_train)\n",
    "print(f'Ridge Regression train R^2: {lr_model_ridge.score(X_train, y_train):.3f}')\n",
    "\n",
    "\n",
    "# Validation\n",
    "\n",
    "lr_model_ridge.fit(X_val, y_val)\n",
    "print(f'Ridge Regression val R^2: {lr_model_ridge.score(X_val, y_val):.3f}')\n",
    "\n",
    "# Testing\n",
    "\n",
    "lr_model_ridge.fit(X_test, y_test)\n",
    "print(f'Ridge Regression test R^2: {lr_model_ridge.score(X_test, y_test):.3f}')\n",
    "\n",
    "\n",
    "# Make predictions on the testing data\n",
    "Revenue_y_pred_ridge = lr_model_ridge.predict (X_test)\n",
    "\n",
    "# Calculate the mean squared error\n",
    "mse_ridge = mean_squared_error(y_test, Revenue_y_pred_ridge)\n",
    "# Print the mean squared error\n",
    "print('Mean Squared Error For Ridge Regression: ', mse_ridge)\n",
    "\n",
    "# Calculate the mean absolute error\n",
    "mae_ridge = mean_absolute_error(y_test, Revenue_y_pred_ridge)\n",
    "print(\"Mean Absolute Error For Ridge Regression: {:.3f}\".format(mae_ridge))\n",
    "\n",
    "\n"
   ]
  },
  {
   "cell_type": "code",
   "execution_count": 66,
   "id": "701592d5",
   "metadata": {},
   "outputs": [
    {
     "data": {
      "image/png": "[encoded data removed]",
      "text/plain": [
       "<Figure size 432x288 with 1 Axes>"
      ]
     },
     "metadata": {},
     "output_type": "display_data"
    }
   ],
   "source": [
    "# Create a scatter plot of the actual vs. predicted sales values\n",
    "plt.scatter(y_test, Revenue_y_pred_ridge)\n",
    "\n",
    "# Add a line showing perfect predictions\n",
    "plt.plot([0, max(y_test)], [0, max(y_test)], 'r--')\n",
    "\n",
    "# Add axis labels and a title\n",
    "plt.xlabel('Actual Revenue')\n",
    "plt.ylabel('Predicted Revenue')\n",
    "plt.title(f'Ridge Regression - Bike Sales\\nMAE: {mae_ridge:.2f}')\n",
    "\n",
    "# Show the plot\n",
    "plt.show()"
   ]
  },
  {
   "cell_type": "markdown",
   "id": "1b58be9e",
   "metadata": {},
   "source": [
    "# 3. Polynomial Regression"
   ]
  },
  {
   "cell_type": "code",
   "execution_count": 67,
   "id": "918eca2e",
   "metadata": {},
   "outputs": [
    {
     "data": {
      "text/plain": [
       "0.9767085636551475"
      ]
     },
     "execution_count": 67,
     "metadata": {},
     "output_type": "execute_result"
    }
   ],
   "source": [
    "# Polynomial Regression\n",
    "\n",
    "# Training\n",
    "\n",
    "poly = PolynomialFeatures() \n",
    "\n",
    "X_train_poly = poly.fit_transform(X_train)\n",
    "X_val_poly = poly.transform(X_val)\n",
    "X_test_poly = poly.transform(X_test)\n",
    "\n",
    "lm_poly = LinearRegression().fit(X_train_poly,y_train)\n",
    "lm_poly.score (X_train_poly,y_train)\n"
   ]
  },
  {
   "cell_type": "code",
   "execution_count": 68,
   "id": "ff802a5c",
   "metadata": {},
   "outputs": [
    {
     "name": "stdout",
     "output_type": "stream",
     "text": [
      "Polynomial regression val R^2: 0.977\n",
      "Polynomial regression test R^2: 0.976\n",
      "Mean Squared Error For Polynomial Regression:  6314.874876781074\n",
      "Mean Absolute Error For Polynomial Regression:  48.14186979119993\n"
     ]
    }
   ],
   "source": [
    "# Validation\n",
    "\n",
    "lm_poly.fit(X_val_poly, y_val)\n",
    "print(f'Polynomial regression val R^2: {lm_poly.score(X_val_poly, y_val):.3f}')\n",
    "\n",
    "# Testing \n",
    "\n",
    "lm_poly.fit(X_test_poly, y_test)\n",
    "print(f'Polynomial regression test R^2: {lm_poly.score(X_test_poly, y_test):.3f}')\n",
    "\n",
    "#Predictions\n",
    "Revenue_y_pred_poly = lm_poly.predict(X_test_poly)\n",
    "\n",
    "# Calculate the mean squared error\n",
    "mse_poly = mean_squared_error(y_test, Revenue_y_pred_poly)\n",
    "\n",
    "# Print the mean squared error\n",
    "print('Mean Squared Error For Polynomial Regression: ', mse_poly)\n",
    "\n",
    "# Calculate the mean absolute error\n",
    "mae_poly = mean_absolute_error(y_test, Revenue_y_pred_poly)\n",
    "\n",
    "# Print the mean absolute error\n",
    "print('Mean Absolute Error For Polynomial Regression: ', mae_poly)\n"
   ]
  },
  {
   "cell_type": "code",
   "execution_count": 69,
   "id": "935cd517",
   "metadata": {},
   "outputs": [
    {
     "data": {
      "image/png": "[encoded data removed]",
      "text/plain": [
       "<Figure size 432x288 with 1 Axes>"
      ]
     },
     "metadata": {},
     "output_type": "display_data"
    }
   ],
   "source": [
    "# Create a scatter plot of the actual vs. predicted Revenue values\n",
    "plt.scatter(y_test, Revenue_y_pred_poly)\n",
    "\n",
    "# Add a line showing perfect predictions\n",
    "plt.plot([0, max(y_test)], [0, max(y_test)], 'r--')\n",
    "\n",
    "# Add axis labels and a title\n",
    "plt.xlabel('Actual Revenue')\n",
    "plt.ylabel('Predicted Revenue')\n",
    "plt.title(f'Polynomial Regression - Bike Sales\\nMAE: {mae_poly:.2f}')\n",
    "\n",
    "# Show the plot\n",
    "plt.show()"
   ]
  },
  {
   "cell_type": "markdown",
   "id": "0ec0a643",
   "metadata": {},
   "source": [
    "# 4. Decision Tree Regressor"
   ]
  },
  {
   "cell_type": "code",
   "execution_count": 70,
   "id": "c7b8239a",
   "metadata": {},
   "outputs": [
    {
     "data": {
      "text/plain": [
       "0.9999735732603122"
      ]
     },
     "execution_count": 70,
     "metadata": {},
     "output_type": "execute_result"
    }
   ],
   "source": [
    "# Decision Tree Regressor\n",
    "\n",
    "#Training\n",
    "\n",
    "model_decisiontree = DecisionTreeRegressor (random_state=42)   # Random state is set for reproducible result\n",
    "model_decisiontree.fit(X_train, y_train)\n",
    "model_decisiontree.score (X_train,y_train)\n"
   ]
  },
  {
   "cell_type": "code",
   "execution_count": 71,
   "id": "e006de49",
   "metadata": {},
   "outputs": [
    {
     "data": {
      "text/plain": [
       "0.9999863092746742"
      ]
     },
     "execution_count": 71,
     "metadata": {},
     "output_type": "execute_result"
    }
   ],
   "source": [
    "#Testing\n",
    "\n",
    "model_decisiontree.fit(X_test, y_test)\n",
    "model_decisiontree.score (X_test,y_test)\n"
   ]
  },
  {
   "cell_type": "code",
   "execution_count": 72,
   "id": "cdc0d338",
   "metadata": {},
   "outputs": [
    {
     "data": {
      "text/plain": [
       "array([ 400.,  407.,  551., ...,  396., 1043.,   15.])"
      ]
     },
     "execution_count": 72,
     "metadata": {},
     "output_type": "execute_result"
    }
   ],
   "source": [
    "# To predict the \"Revenue\" status for the test set\n",
    "Revenue_y_pred_decisiontree = model_decisiontree.predict(X_test)\n",
    "model_decisiontree.predict(X_test)"
   ]
  },
  {
   "cell_type": "code",
   "execution_count": 73,
   "id": "68bf8e6d",
   "metadata": {},
   "outputs": [
    {
     "name": "stdout",
     "output_type": "stream",
     "text": [
      "Mean Squared Error For Decision Tree:  3.6601666816022944\n",
      "Mean Absolute Error For Decision Tree:  0.09807330405950354\n"
     ]
    }
   ],
   "source": [
    "\n",
    "# Calculate the mean squared error to evaluate model performance\n",
    "mse_decisiontree = mean_squared_error(y_test, Revenue_y_pred_decisiontree)\n",
    "\n",
    "# Print the mean squared error\n",
    "\n",
    "print('Mean Squared Error For Decision Tree: ', mse_decisiontree)\n",
    "\n",
    "# Calculate the mean absolute error to evaluate model performance\n",
    "mae_decisiontree = mean_absolute_error(y_test, Revenue_y_pred_decisiontree)\n",
    "\n",
    "# Print the mean absolute error\n",
    "\n",
    "print('Mean Absolute Error For Decision Tree: ', mae_decisiontree)"
   ]
  },
  {
   "cell_type": "code",
   "execution_count": 74,
   "id": "415abd77",
   "metadata": {},
   "outputs": [
    {
     "data": {
      "image/png": "[encoded data removed]",
      "text/plain": [
       "<Figure size 432x288 with 1 Axes>"
      ]
     },
     "metadata": {},
     "output_type": "display_data"
    }
   ],
   "source": [
    "# Create a scatter plot of the actual vs. predicted Revenue values\n",
    "plt.scatter(y_test, Revenue_y_pred_decisiontree)\n",
    "\n",
    "# Add a line showing perfect predictions\n",
    "plt.plot([0, max(y_test)], [0, max(y_test)], 'r--')\n",
    "\n",
    "# Add axis labels and a title\n",
    "plt.xlabel('Actual Revenue')\n",
    "plt.ylabel('Predicted Revenue')\n",
    "plt.title(f'Decision Tree Regressor - Bike Sales\\nMAE: {mae_decisiontree:.2f}')\n",
    "\n",
    "# Show the plot\n",
    "plt.show()\n"
   ]
  },
  {
   "cell_type": "markdown",
   "id": "605c71b0",
   "metadata": {},
   "source": [
    "# 5. Lasso Regression"
   ]
  },
  {
   "cell_type": "code",
   "execution_count": 75,
   "id": "209b4b69",
   "metadata": {},
   "outputs": [
    {
     "data": {
      "text/plain": [
       "0.6999305107313644"
      ]
     },
     "execution_count": 75,
     "metadata": {},
     "output_type": "execute_result"
    }
   ],
   "source": [
    "# Lasso Regression\n",
    "#Training\n",
    "\n",
    "lasso_model = Lasso(alpha = 0.1) # Apha is set to a smaller value to prevent overfitting\n",
    "\n",
    "lasso_model.fit(X_train, y_train)\n",
    "lasso_model.score(X_train, y_train)\n"
   ]
  },
  {
   "cell_type": "code",
   "execution_count": 76,
   "id": "10d003ab",
   "metadata": {},
   "outputs": [
    {
     "data": {
      "text/plain": [
       "0.7021332158405613"
      ]
     },
     "execution_count": 76,
     "metadata": {},
     "output_type": "execute_result"
    }
   ],
   "source": [
    "# Testing\n",
    "\n",
    "lasso_model.fit(X_test, y_test)\n",
    "lasso_model.score(X_test, y_test)"
   ]
  },
  {
   "cell_type": "code",
   "execution_count": 77,
   "id": "119c7f25",
   "metadata": {},
   "outputs": [
    {
     "name": "stdout",
     "output_type": "stream",
     "text": [
      "Mean Squared Error For Lasso Regression:  79633.62444231784\n",
      "Mean Absolute Error For Lasso Regression:  178.05776663192543\n"
     ]
    }
   ],
   "source": [
    "\n",
    "# Make predictions on the testing data\n",
    "Revenue_y_pred_lasso = lasso_model.predict(X_test)\n",
    "\n",
    "# Calculate the mean squared error\n",
    "mse_lasso = mean_squared_error(y_test, Revenue_y_pred_lasso)\n",
    "\n",
    "# Print the mean squared error\n",
    "print('Mean Squared Error For Lasso Regression: ', mse_lasso)\n",
    "\n",
    "# Calculate the mean absolute error\n",
    "mae_lasso = mean_absolute_error(y_test, Revenue_y_pred_lasso)\n",
    "\n",
    "# Print the mean absolute error\n",
    "print('Mean Absolute Error For Lasso Regression: ', mae_lasso)\n"
   ]
  },
  {
   "cell_type": "code",
   "execution_count": 78,
   "id": "84b93ca3",
   "metadata": {},
   "outputs": [
    {
     "data": {
      "image/png": "[encoded data removed]",
      "text/plain": [
       "<Figure size 432x288 with 1 Axes>"
      ]
     },
     "metadata": {},
     "output_type": "display_data"
    }
   ],
   "source": [
    "# Create a scatter plot of the actual vs. predicted  Revenue values\n",
    "plt.scatter(y_test, Revenue_y_pred_lasso)\n",
    "\n",
    "# Add a line showing perfect predictions\n",
    "plt.plot([0, max(y_test)], [0, max(y_test)], 'r--')\n",
    "\n",
    "# Add axis labels and a title\n",
    "plt.xlabel('Actual Revenue')\n",
    "plt.ylabel('Predicted Revenue')\n",
    "plt.title(f'Lasso Regression - Bike Sales\\nMAE: {mae_lasso:.2f}')\n",
    "\n",
    "# Show the plot\n",
    "plt.show()"
   ]
  },
  {
   "cell_type": "markdown",
   "id": "9d530528",
   "metadata": {},
   "source": [
    "# 6. Random Forest Regressor"
   ]
  },
  {
   "cell_type": "code",
   "execution_count": 79,
   "id": "3433a50d",
   "metadata": {},
   "outputs": [
    {
     "data": {
      "text/plain": [
       "0.9999437993042868"
      ]
     },
     "execution_count": 79,
     "metadata": {},
     "output_type": "execute_result"
    }
   ],
   "source": [
    "#  Random Forest Regressor\n",
    "# n_estimators is the number of decision trees\n",
    "# random state is used for reproducible results\n",
    "\n",
    "\n",
    "X_train, X_test, y_train, y_test = train_test_split(X, y, test_size=0.2, random_state=42)\n",
    "model = RandomForestRegressor(n_estimators=100, random_state=42)\n",
    "\n",
    "# Training\n",
    "model.fit(X_train, y_train)\n",
    "model.score(X_train, y_train)"
   ]
  },
  {
   "cell_type": "code",
   "execution_count": 80,
   "id": "f83ca84c",
   "metadata": {},
   "outputs": [
    {
     "data": {
      "text/plain": [
       "0.9999391699911091"
      ]
     },
     "execution_count": 80,
     "metadata": {},
     "output_type": "execute_result"
    }
   ],
   "source": [
    "#Testing\n",
    "model.fit(X_test, y_test)\n",
    "model.score(X_test, y_test)"
   ]
  },
  {
   "cell_type": "code",
   "execution_count": 81,
   "id": "450c144d",
   "metadata": {},
   "outputs": [
    {
     "name": "stdout",
     "output_type": "stream",
     "text": [
      "Mean Squared Error For Random Forest: 16.26\n",
      "Mean Absolute Error For Random Forest: 0.77\n"
     ]
    }
   ],
   "source": [
    "\n",
    "# Model evaluation\n",
    "Revenue_y_pred_randomforest = model.predict(X_test)\n",
    "\n",
    "# Calculate the mean squared error\n",
    "mse_randomforest = mean_squared_error(y_test, Revenue_y_pred_randomforest)\n",
    "\n",
    "# Print the MSE\n",
    "print(f'Mean Squared Error For Random Forest: {mse_randomforest:.2f}')\n",
    "\n",
    "# Calculate the mean absolute error\n",
    "mae_randomforest = mean_absolute_error(y_test, Revenue_y_pred_randomforest)\n",
    "\n",
    "# Print the MAE\n",
    "print(f'Mean Absolute Error For Random Forest: {mae_randomforest:.2f}')\n"
   ]
  },
  {
   "cell_type": "code",
   "execution_count": 82,
   "id": "a79b8874",
   "metadata": {},
   "outputs": [
    {
     "data": {
      "image/png": "[encoded data removed]",
      "text/plain": [
       "<Figure size 432x288 with 1 Axes>"
      ]
     },
     "metadata": {},
     "output_type": "display_data"
    }
   ],
   "source": [
    "# Create a scatter plot of the actual vs. predicted Revenue values\n",
    "plt.scatter(y_test, Revenue_y_pred_randomforest)\n",
    "\n",
    "# Add a line showing perfect predictions\n",
    "plt.plot([0, max(y_test)], [0, max(y_test)], 'r--')\n",
    "\n",
    "# Add axis labels and a title\n",
    "plt.xlabel('Actual Revenue')\n",
    "plt.ylabel('Predicted Revenue')\n",
    "plt.title(f'Random Forest Regressor - Bike Sales\\nMAE: {mae_randomforest:.2f}')\n",
    "\n",
    "# Show the plot\n",
    "plt.show()"
   ]
  },
  {
   "cell_type": "markdown",
   "id": "72f3a449",
   "metadata": {},
   "source": [
    "Six Algorithms were compared in this ML assessment. Decision tree regressor had the best prediction based on the mean accuracy error. It has the lowest mean accuracy error among the 6 algorithms, The lower the mean accuracy error, the better the machine learning prediction."
   ]
  }
 ],
 "metadata": {
  "kernelspec": {
   "display_name": "Python 3 (ipykernel)",
   "language": "python",
   "name": "python3"
  },
  "language_info": {
   "codemirror_mode": {
    "name": "ipython",
    "version": 3
   },
   "file_extension": ".py",
   "mimetype": "text/x-python",
   "name": "python",
   "nbconvert_exporter": "python",
   "pygments_lexer": "ipython3",
   "version": "3.9.12"
  }
 },
 "nbformat": 4,
 "nbformat_minor": 5
}
